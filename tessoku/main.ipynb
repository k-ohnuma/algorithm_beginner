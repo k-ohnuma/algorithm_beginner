{
 "cells": [
  {
   "cell_type": "markdown",
   "metadata": {},
   "source": [
    "### 第一章"
   ]
  },
  {
   "cell_type": "code",
   "execution_count": null,
   "metadata": {},
   "outputs": [],
   "source": [
    "N = int(input())\n",
    "print(N ** 2)"
   ]
  },
  {
   "cell_type": "code",
   "execution_count": null,
   "metadata": {},
   "outputs": [],
   "source": [
    "N, X = map(int, input().split())\n",
    "A = list(map(int, input().split()))\n",
    "if X in A:\n",
    "    print('Yes')\n",
    "else:\n",
    "    print('No')"
   ]
  },
  {
   "cell_type": "code",
   "execution_count": null,
   "metadata": {},
   "outputs": [],
   "source": [
    "N, K = map(int, input().split())\n",
    "P = list(map(int, input().split()))\n",
    "Q = list(map(int, input().split()))\n",
    "\n",
    "for p in P:\n",
    "    for q in Q:\n",
    "        if p + q == K:\n",
    "            exit(print('Yes'))\n",
    "print('No')"
   ]
  },
  {
   "cell_type": "code",
   "execution_count": null,
   "metadata": {},
   "outputs": [],
   "source": [
    "N = int(input())\n",
    "print(f'{N:010b}')"
   ]
  },
  {
   "cell_type": "code",
   "execution_count": null,
   "metadata": {},
   "outputs": [],
   "source": [
    "N, K = map(int, input().split())\n",
    "ans = 0\n",
    "for red in range(1, N + 1):\n",
    "    for blue in range(1, N + 1):\n",
    "        white = K - red - blue\n",
    "        if 1 <= white <= N:\n",
    "            ans += 1\n",
    "print(ans)"
   ]
  },
  {
   "cell_type": "code",
   "execution_count": null,
   "metadata": {},
   "outputs": [],
   "source": [
    "A, B = map(int, input().split())\n",
    "print(A + B)"
   ]
  },
  {
   "cell_type": "code",
   "execution_count": null,
   "metadata": {},
   "outputs": [],
   "source": [
    "def ok(N):\n",
    "    if 100 % N == 0:\n",
    "        return True\n",
    "    return False\n",
    "\n",
    "A, B = map(int, input().split())\n",
    "for num in range(A, B + 1):\n",
    "    if ok(num):\n",
    "        exit(print('Yes'))\n",
    "print('No')"
   ]
  },
  {
   "cell_type": "code",
   "execution_count": null,
   "metadata": {},
   "outputs": [],
   "source": [
    "N = int(input())\n",
    "A = list(map(int, input().split()))\n",
    "\n",
    "for i in range(N):\n",
    "    for j in range(i + 1, N):\n",
    "        for k in range(j + 1, N):\n",
    "            if A[i] + A[j] + A[k] == 1000:\n",
    "                exit(print('Yes'))\n",
    "print('No')"
   ]
  },
  {
   "cell_type": "code",
   "execution_count": null,
   "metadata": {},
   "outputs": [],
   "source": [
    "N = list(input())\n",
    "N = N[::-1]\n",
    "ans = 0\n",
    "for i, num in enumerate(N):\n",
    "    num = int(num)\n",
    "    ans += num * (2 ** i)\n",
    "print(ans)"
   ]
  },
  {
   "cell_type": "markdown",
   "metadata": {},
   "source": [
    "### 2章（累積和）"
   ]
  },
  {
   "cell_type": "code",
   "execution_count": null,
   "metadata": {},
   "outputs": [],
   "source": [
    "from itertools import accumulate\n",
    "\n",
    "N, Q = map(int, input().split())\n",
    "A = list(map(int, input().split()))\n",
    "ac = [0] + list(accumulate(A))\n",
    "\n",
    "for _ in range(Q):\n",
    "    L, R = map(int, input().split())\n",
    "    print(ac[R] - ac[L - 1])"
   ]
  },
  {
   "cell_type": "code",
   "execution_count": null,
   "metadata": {},
   "outputs": [],
   "source": [
    "from itertools import accumulate\n",
    " \n",
    "D = int(input())\n",
    "N = int(input())\n",
    " \n",
    "ls = [0] * (D + 1)\n",
    "for _ in range(N):\n",
    "    l, r = map(int, input().split())\n",
    "    ls[l - 1] += 1\n",
    "    ls[r] -= 1\n",
    " \n",
    "ac = accumulate(ls[:-1])\n",
    " \n",
    "for num in ac:\n",
    "    print(num)"
   ]
  },
  {
   "cell_type": "code",
   "execution_count": null,
   "metadata": {},
   "outputs": [],
   "source": [
    "from itertools import accumulate\n",
    "\n",
    "H, W = map(int, input().split())\n",
    "X = [list(map(int, input().split())) for _ in range(H)]\n",
    "ls = []\n",
    "ls.append([0] * (W + 1))\n",
    "for i in range(H):\n",
    "    tmp = [0] + list(accumulate(X[i]))\n",
    "    ls.append(tmp)\n",
    "ls = list(map(list, zip(*ls)))\n",
    "li = []\n",
    "for i in range(W + 1):\n",
    "    tmp = list(accumulate(ls[i]))\n",
    "    li.append(tmp)\n",
    "# print(li)\n",
    "li = list(map(list, zip(*li)))\n",
    "\n",
    "Q = int(input())\n",
    "\n",
    "for _ in range(Q):\n",
    "    A, B, C, D = map(int, input().split())\n",
    "    # A -= 1\n",
    "    # B -= 1\n",
    "    # C -= 1\n",
    "    # D -= 1\n",
    "    # print(C, D)\n",
    "    # print(li[C][D])\n",
    "    print(li[C][D] + li[A - 1][B - 1] - li[C][B - 1] - li[A - 1][D])"
   ]
  },
  {
   "cell_type": "code",
   "execution_count": null,
   "metadata": {},
   "outputs": [],
   "source": [
    "from itertools import accumulate\n",
    "\n",
    "H, W, N = map(int, input().split())\n",
    "ls = [[0] * (W + 2) for _ in range(H + 2)]\n",
    "for _ in range(N):\n",
    "    a, b, c, d = map(int, input().split())\n",
    "    ls[a][b] += 1\n",
    "    ls[c + 1][b] -= 1\n",
    "    ls[c + 1][d + 1] += 1\n",
    "    ls[a][d + 1] -= 1\n",
    "new_ls = []\n",
    "for i in range(H + 2):\n",
    "    ls[i] = list(accumulate(ls[i]))\n",
    "\n",
    "ls = list(map(list, zip(*ls)))\n",
    "\n",
    "for j in range(W + 2):\n",
    "    ls[j] = list(accumulate(ls[j]))\n",
    "\n",
    "ls = list(map(list, zip(*ls)))\n",
    "\n",
    "\n",
    "for i in range(1, H + 1):\n",
    "    for j in range(1, W + 1):\n",
    "        print(ls[i][j], end = ' ')\n",
    "    print()\n",
    "    "
   ]
  },
  {
   "cell_type": "code",
   "execution_count": null,
   "metadata": {},
   "outputs": [],
   "source": [
    "N = int(input())\n",
    "A = list(map(int, input().split()))\n",
    "\n",
    "D = int(input())\n",
    "ls_front = [-1] * (N)\n",
    "ls_back = [-1] * N\n",
    "v = -1\n",
    "for i in range(N):\n",
    "    ls_front[i] = max(v, A[i])\n",
    "    if ls_front[i] == max(v, ls_front[i]):\n",
    "        v = ls_front[i]\n",
    "v = -1\n",
    "for i in range(N):\n",
    "    ls_back[i] = max(v, A[-1 - i])\n",
    "    if ls_back[i] == max(v, ls_back[i]):\n",
    "        v = ls_back[i]\n",
    "\n",
    "# D = int(input())\n",
    "for _ in range(D):\n",
    "    L, R = map(int, input().split())\n",
    "    # print(ls_front[L - 2], ls_back[-(N - R)])\n",
    "    \n",
    "    print(max(ls_front[L - 2], ls_back[N - R - 1]))"
   ]
  },
  {
   "cell_type": "code",
   "execution_count": null,
   "metadata": {},
   "outputs": [],
   "source": [
    "from itertools import accumulate\n",
    "\n",
    "N = int(input())\n",
    "A = list(map(int, input().split()))\n",
    "ac = [0] + list(accumulate(A))\n",
    "Q = int(input())\n",
    "for _ in range(Q):\n",
    "    L, R = map(int, input().split())\n",
    "    atari = ac[R] - ac[L - 1]\n",
    "    if atari > (R - L + 1) - atari:\n",
    "        print('win')\n",
    "    elif atari == (R - L + 1) - atari:\n",
    "        print('draw')\n",
    "    else:\n",
    "        print('lose')"
   ]
  },
  {
   "cell_type": "code",
   "execution_count": null,
   "metadata": {},
   "outputs": [],
   "source": [
    "T = int(input())\n",
    "N = int(input())\n",
    "ls = [0] * (T + 1)\n",
    "\n",
    "for _ in range(N):\n",
    "    L, R = map(int, input().split())\n",
    "    ls[L] += 1\n",
    "    ls[R] -= 1\n",
    "from itertools import accumulate\n",
    "ls = list(accumulate(ls))\n",
    "for i in range(T):\n",
    "    print(ls[i])"
   ]
  },
  {
   "cell_type": "code",
   "execution_count": null,
   "metadata": {},
   "outputs": [],
   "source": [
    "from itertools import accumulate\n",
    "\n",
    "N = int(input())\n",
    "ls = [[0] * 1502 for _ in range(1502)]\n",
    "\n",
    "for _ in range(N):\n",
    "    x, y =map(int, input().split())\n",
    "    ls[x][y] += 1\n",
    "\n",
    "for i in range(1502):\n",
    "    ls[i] = list(accumulate(ls[i]))\n",
    "    \n",
    "ls = list(map(list, zip(*ls)))\n",
    "\n",
    "for j in range(1502):\n",
    "    ls[j] = list(accumulate(ls[j]))\n",
    "    \n",
    "ls = list(map(list, zip(*ls)))\n",
    "\n",
    "Q = int(input())\n",
    "\n",
    "for _ in range(Q):\n",
    "    a, b, c, d = map(int, input().split())\n",
    "    print(ls[c][d] + ls[a - 1][b - 1] - ls[c][b - 1] - ls[a - 1][d])"
   ]
  },
  {
   "cell_type": "code",
   "execution_count": null,
   "metadata": {},
   "outputs": [],
   "source": [
    "N = int(input())\n",
    "num = 1502\n",
    "ls = [[0] * num for _ in range(num)]\n",
    " \n",
    "for _ in range(N):\n",
    "    a, b, c, d = map(int, input().split())\n",
    "    ls[a + 1][b + 1] += 1\n",
    "    ls[a + 1][d + 1] -= 1\n",
    "    ls[c + 1][b + 1] -= 1\n",
    "    ls[c + 1][d + 1] += 1\n",
    "    \n",
    "from itertools import accumulate\n",
    " \n",
    "for i in range(num):\n",
    "    ls[i] = list(accumulate(ls[i]))\n",
    " \n",
    "# for i in range(num):\n",
    "#     print(ls[i])\n",
    "    \n",
    "ls = list(map(list, zip(*ls)))\n",
    " \n",
    "for i in range(num):\n",
    "    ls[i] = list(accumulate(ls[i]))\n",
    " \n",
    "ls = list(map(list, zip(*ls)))\n",
    " \n",
    "# for i in range(num):\n",
    "#     print(ls[i])\n",
    "ans = 0\n",
    "for i in range(num):\n",
    "    for j in range(num):\n",
    "        if ls[i][j] >= 1:\n",
    "            ans += 1\n",
    "            \n",
    "print(ans)"
   ]
  },
  {
   "cell_type": "markdown",
   "metadata": {},
   "source": [
    "### 二分探索"
   ]
  },
  {
   "cell_type": "code",
   "execution_count": null,
   "metadata": {},
   "outputs": [],
   "source": [
    "import bisect\n",
    " \n",
    "N, X = map(int, input().split())\n",
    "A = list(map(int, input().split()))\n",
    "num = bisect.bisect_left(A, X)\n",
    "print(num + 1)"
   ]
  },
  {
   "cell_type": "code",
   "execution_count": null,
   "metadata": {},
   "outputs": [],
   "source": [
    "def func(t, A):\n",
    "    ans = 0\n",
    "    for num in A:\n",
    "        ans += t // num\n",
    "    return ans\n",
    "\n",
    "N, K = map(int, input().split())\n",
    "A = list(map(int, input().split()))\n",
    "\n",
    "left = 0\n",
    "right = 10 ** 9\n",
    "\n",
    "while left != right:\n",
    "    mid = (left + right) // 2\n",
    "    if func(mid, A) >= K:\n",
    "        right = mid\n",
    "    elif func(mid, A) < K:\n",
    "        left = mid + 1\n",
    "        \n",
    "print(left)"
   ]
  },
  {
   "cell_type": "code",
   "execution_count": null,
   "metadata": {},
   "outputs": [],
   "source": [
    "import bisect\n",
    "\n",
    "N, K = map(int, input().split())\n",
    "A = list(map(int, input().split()))\n",
    "ans = 0\n",
    "for i in range(1, N + 1):\n",
    "    num = bisect.bisect_left(A, A[i - 1] + K)\n",
    "    if num == N:\n",
    "        num -= 1\n",
    "    elif A[i - 1] + K != A[num]:\n",
    "        num -= 1\n",
    "    # print(num)\n",
    "    ans += (num - i + 1)\n",
    "print(ans) \n",
    "    "
   ]
  },
  {
   "cell_type": "code",
   "execution_count": null,
   "metadata": {},
   "outputs": [],
   "source": [
    "N, K = map(int, input().split())\n",
    "A = list(map(int, input().split()))\n",
    "B = list(map(int, input().split()))\n",
    "C = list(map(int, input().split()))\n",
    "D = list(map(int, input().split()))\n",
    "AB = []\n",
    "CD = []\n",
    "for i in range(N):\n",
    "    for j in range(N):\n",
    "        AB.append(A[i] + B[j])\n",
    "        CD.append(C[i] + D[j])\n",
    "import bisect\n",
    "AB.sort()\n",
    "CD.sort()\n",
    "for num in AB:\n",
    "    tmp = bisect.bisect_left(CD, K - num)\n",
    "    if 0 <= tmp <= len(CD) - 1:\n",
    "        if CD[tmp] == K - num:\n",
    "            exit(print('Yes'))\n",
    "print('No')"
   ]
  },
  {
   "cell_type": "code",
   "execution_count": null,
   "metadata": {},
   "outputs": [],
   "source": [
    "N = int(input())\n",
    "A = list(map(int, input().split()))\n",
    "s = set(A)\n",
    "s = list(s)\n",
    "s.sort()\n",
    "\n",
    "import bisect\n",
    "ans = []\n",
    "for num in A:\n",
    "    tmp = bisect.bisect_left(s, num)\n",
    "    ans.append(tmp + 1)\n",
    "print(*ans)"
   ]
  },
  {
   "cell_type": "code",
   "execution_count": null,
   "metadata": {},
   "outputs": [],
   "source": [
    "import bisect\n",
    "\n",
    "N = int(input())\n",
    "A = list(map(int, input().split()))\n",
    "A.sort()\n",
    "Q = int(input())\n",
    "\n",
    "for _ in range(Q):\n",
    "    x = int(input())\n",
    "    ans = bisect.bisect_left(A, x)\n",
    "    print(ans)"
   ]
  },
  {
   "cell_type": "code",
   "execution_count": null,
   "metadata": {},
   "outputs": [],
   "source": [
    "def func(x):\n",
    "    return x ** 3 + x\n",
    "\n",
    "N = int(input())\n",
    "left = 0\n",
    "right = 10 ** 6\n",
    "\n",
    "while (right - left) >= 0.000001:\n",
    "    mid = (left + right) / 2\n",
    "    # print(mid)\n",
    "    if func(mid) > N:\n",
    "        right = mid\n",
    "    elif func(mid) < N:\n",
    "        left = mid\n",
    "\n",
    "print(left)\n",
    "        "
   ]
  },
  {
   "cell_type": "markdown",
   "metadata": {},
   "source": [
    "### dp"
   ]
  },
  {
   "cell_type": "code",
   "execution_count": null,
   "metadata": {},
   "outputs": [],
   "source": [
    "N = int(input())\n",
    "A = list(map(int, input().split()))\n",
    "B = list(map(int, input().split()))\n",
    "inf = 1 << 30\n",
    "dp = [inf] * N\n",
    "dp[0] = 0\n",
    "dp[1] = A[0]\n",
    "\n",
    "for i in range(2, N):\n",
    "    dp[i] = min(dp[i], dp[i - 1] + A[i - 1], dp[i - 2] + B[i - 2])\n",
    "\n",
    "print(dp[-1])"
   ]
  },
  {
   "cell_type": "code",
   "execution_count": null,
   "metadata": {},
   "outputs": [],
   "source": [
    "N = int(input())\n",
    "A = list(map(int, input().split()))\n",
    "B = list(map(int, input().split()))\n",
    "inf = 1 << 40\n",
    "dp = [inf] * N\n",
    "dp[0] = 0\n",
    "dp[1] = A[0]\n",
    "pre = [-1] * N\n",
    "pre[1] = 0\n",
    "for i in range(2, N):\n",
    "    dp[i] = min(dp[i], dp[i - 1] + A[i - 1], dp[i - 2] + B[i - 2])\n",
    "    if min(dp[i], dp[i - 1] + A[i - 1], dp[i - 2] + B[i - 2]) == dp[i - 1] + A[i - 1]:\n",
    "        pre[i] = i - 1\n",
    "    elif min(dp[i], dp[i - 1] + A[i - 1], dp[i - 2] + B[i - 2]) == dp[i - 2] + B[i - 2]:\n",
    "        pre[i] = i - 2\n",
    "ans = []\n",
    "now = N - 1\n",
    "while now != -1:\n",
    "    ans.append(now + 1)\n",
    "    now = pre[now]\n",
    "\n",
    "ans.reverse()\n",
    "print(len(ans))\n",
    "print(*ans)\n"
   ]
  },
  {
   "cell_type": "code",
   "execution_count": null,
   "metadata": {},
   "outputs": [],
   "source": [
    "N, S = map(int, input().split())\n",
    "A = list(map(int, input().split()))\n",
    "\n",
    "dp = [[False] * (S + 1) for _ in range(N + 1)]\n",
    "dp[0][0] = True\n",
    "\n",
    "for i in range(N):\n",
    "    for j in range(S + 1):\n",
    "        if not dp[i][j]:\n",
    "            continue\n",
    "        dp[i + 1][j] = True\n",
    "        if j + A[i] <= S:\n",
    "            dp[i + 1][j + A[i]] = True\n",
    "\n",
    "if dp[-1][-1]:\n",
    "    print('Yes')\n",
    "else:\n",
    "    print('No')"
   ]
  },
  {
   "cell_type": "code",
   "execution_count": null,
   "metadata": {},
   "outputs": [],
   "source": [
    "N, S = map(int, input().split())\n",
    "W = []\n",
    "V = []\n",
    "for _ in range(N):\n",
    "    w, v = map(int, input().split())\n",
    "    W.append(w)\n",
    "    V.append(v)\n",
    "\n",
    "dp = [[-1] * (S + 1) for _ in range(N + 1)]\n",
    "dp[0][0] = 0\n",
    "\n",
    "for i in range(N):\n",
    "    for j in range(S + 1):\n",
    "        if dp[i][j] == -1:\n",
    "            continue\n",
    "        dp[i + 1][j] = max(dp[i + 1][j], dp[i][j])\n",
    "        if j + W[i] <= S:\n",
    "            dp[i + 1][j + W[i]] = max(dp[i + 1][j + W[i]], dp[i][j] + V[i])\n",
    "\n",
    "print(max(dp[-1]))"
   ]
  },
  {
   "cell_type": "code",
   "execution_count": null,
   "metadata": {},
   "outputs": [],
   "source": [
    "S = input()\n",
    "T = input()\n",
    "\n",
    "dp = [[0] * (len(T) + 1) for _ in range(len(S) + 1)]\n",
    "dp[0][0] = 0\n",
    "\n",
    "for i in range(len(S)):\n",
    "    for j in range(len(T)):\n",
    "        dp[i + 1][j + 1] = max(dp[i][j + 1], dp[i + 1][j])\n",
    "        if S[i] == T[j]:\n",
    "            dp[i + 1][j + 1] = max(dp[i + 1][j + 1], dp[i][j] + 1)\n",
    " \n",
    "print(dp[-1][-1])"
   ]
  },
  {
   "cell_type": "code",
   "execution_count": null,
   "metadata": {},
   "outputs": [],
   "source": [
    "H, W = map(int, input().split())\n",
    "C = [list(input()) for _ in range(H)]\n",
    "dp = [[0] * W for _ in range(H)]\n",
    "dp[0][0] = 1\n",
    "\n",
    "for i in range(1, H):\n",
    "    if C[i][0] == '#':\n",
    "        break\n",
    "    dp[i][0] = dp[i - 1][0]\n",
    "\n",
    "for j in range(1, W):\n",
    "    if C[0][j] == '#':\n",
    "        break\n",
    "    dp[0][j] = dp[0][j - 1]\n",
    "\n",
    "for i in range(1, H):\n",
    "    for j in range(1, W):\n",
    "        if C[i][j] == '#':\n",
    "            continue\n",
    "        dp[i][j] = dp[i - 1][j] + dp[i][j - 1]\n",
    "\n",
    "print(dp[-1][-1])\n",
    "\n",
    "        \n",
    "    "
   ]
  },
  {
   "cell_type": "code",
   "execution_count": null,
   "metadata": {},
   "outputs": [],
   "source": [
    "N = int(input())\n",
    "A = list(map(int, input().split()))\n",
    "B = list(map(int, input().split()))\n",
    "inf = -1 << 30\n",
    "# print(inf)\n",
    "dp = [inf] * (N + 1)\n",
    "dp[1] = 0\n",
    "for i in range(1, N):\n",
    "    dp[A[i - 1]] = max(dp[A[i - 1]], dp[i] + 100)\n",
    "    dp[B[i - 1]] = max(dp[B[i - 1]], dp[i] + 150)    \n",
    "# print(dp)\n",
    "print(dp[N])"
   ]
  },
  {
   "cell_type": "code",
   "execution_count": null,
   "metadata": {},
   "outputs": [],
   "source": []
  },
  {
   "cell_type": "code",
   "execution_count": null,
   "metadata": {},
   "outputs": [],
   "source": []
  },
  {
   "cell_type": "code",
   "execution_count": null,
   "metadata": {},
   "outputs": [],
   "source": []
  },
  {
   "cell_type": "code",
   "execution_count": null,
   "metadata": {},
   "outputs": [],
   "source": []
  },
  {
   "cell_type": "code",
   "execution_count": null,
   "metadata": {},
   "outputs": [],
   "source": []
  },
  {
   "cell_type": "code",
   "execution_count": null,
   "metadata": {},
   "outputs": [],
   "source": []
  }
 ],
 "metadata": {
  "kernelspec": {
   "display_name": "base",
   "language": "python",
   "name": "python3"
  },
  "language_info": {
   "codemirror_mode": {
    "name": "ipython",
    "version": 3
   },
   "file_extension": ".py",
   "mimetype": "text/x-python",
   "name": "python",
   "nbconvert_exporter": "python",
   "pygments_lexer": "ipython3",
   "version": "3.9.13"
  },
  "orig_nbformat": 4,
  "vscode": {
   "interpreter": {
    "hash": "40d3a090f54c6569ab1632332b64b2c03c39dcf918b08424e98f38b5ae0af88f"
   }
  }
 },
 "nbformat": 4,
 "nbformat_minor": 2
}
