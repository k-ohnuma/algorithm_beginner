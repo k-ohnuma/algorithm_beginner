{
 "cells": [
  {
   "cell_type": "markdown",
   "metadata": {},
   "source": [
    "### 03/08"
   ]
  },
  {
   "cell_type": "code",
   "execution_count": null,
   "metadata": {},
   "outputs": [],
   "source": [
    "ans = int(1.08 * int(input()))\n",
    "if ans < 206:\n",
    "    print('Yay!')\n",
    "elif ans == 206:\n",
    "    print('so-so')\n",
    "else:\n",
    "    print(':(')"
   ]
  },
  {
   "cell_type": "code",
   "execution_count": null,
   "metadata": {},
   "outputs": [],
   "source": [
    "N = int(input())\n",
    " \n",
    "ans = (-1 + (1 + 8 * N) ** (1 / 2)) / 2\n",
    "if ans.is_integer():\n",
    "    print(int(ans))\n",
    "else:\n",
    "    print(int(ans) + 1)"
   ]
  },
  {
   "cell_type": "code",
   "execution_count": null,
   "metadata": {},
   "outputs": [],
   "source": [
    "from collections import defaultdict\n",
    "from operator import mul\n",
    "from functools import reduce\n",
    "\n",
    "def cmb(n,r):\n",
    "    r = min(n-r,r)\n",
    "    if r == 0: return 1\n",
    "    over = reduce(mul, range(n, n - r, -1))\n",
    "    under = reduce(mul, range(1,r + 1))\n",
    "    return over // under\n",
    "\n",
    "\n",
    "N = int(input())\n",
    "A = list(map(int, input().split()))\n",
    "d = defaultdict(int)\n",
    "ans = cmb(N, 2)\n",
    "for num in A:\n",
    "    d[num] += 1\n",
    "    \n",
    "for key in d:\n",
    "    ans -= ((d[key]) * (d[key] - 1)) // 2\n",
    "\n",
    "print(ans)\n"
   ]
  },
  {
   "cell_type": "code",
   "execution_count": null,
   "metadata": {},
   "outputs": [],
   "source": [
    "# Union-Find\n",
    "from collections import defaultdict\n",
    " \n",
    "class UnionFind():\n",
    "    def __init__(self, n):\n",
    "        self.n = n\n",
    "        self.parents = [-1] * n\n",
    " \n",
    "    def find(self, x):\n",
    "        if self.parents[x] < 0:\n",
    "            return x\n",
    "        else:\n",
    "            self.parents[x] = self.find(self.parents[x])\n",
    "            return self.parents[x]\n",
    " \n",
    "    def union(self, x, y):\n",
    "        x = self.find(x)\n",
    "        y = self.find(y)\n",
    " \n",
    "        if x == y:\n",
    "            return\n",
    " \n",
    "        if self.parents[x] > self.parents[y]:\n",
    "            x, y = y, x\n",
    " \n",
    "        self.parents[x] += self.parents[y]\n",
    "        self.parents[y] = x\n",
    " \n",
    "    def size(self, x):\n",
    "        return -self.parents[self.find(x)]\n",
    " \n",
    "    def same(self, x, y):\n",
    "        return self.find(x) == self.find(y)\n",
    " \n",
    "    def members(self, x):\n",
    "        root = self.find(x)\n",
    "        return [i for i in range(self.n) if self.find(i) == root]\n",
    " \n",
    "    def roots(self):\n",
    "        return [i for i, x in enumerate(self.parents) if x < 0]\n",
    " \n",
    "    def group_count(self):\n",
    "        return len(self.roots())\n",
    " \n",
    "    def all_group_members(self):\n",
    "        group_members = defaultdict(list)\n",
    "        for member in range(self.n):\n",
    "            group_members[self.find(member)].append(member)\n",
    "        return group_members\n",
    " \n",
    "    def __str__(self):\n",
    "        return '\\n'.join(f'{r}: {m}' for r, m in self.all_group_members().items())\n",
    "    \n",
    "    \n",
    "N = int(input())\n",
    "A = list(map(int, input().split()))\n",
    "uf = UnionFind(5 * 10 ** 5)\n",
    "\n",
    "ans = 0\n",
    "\n",
    "for i in range(N):\n",
    "    if A[i] == A[~i]:\n",
    "        continue\n",
    "    uf.union(A[i], A[~i])\n",
    "\n",
    "U = uf.all_group_members()\n",
    "\n",
    "for num in U:\n",
    "    ans += len(U[num]) - 1\n",
    "    \n",
    "print(ans)"
   ]
  },
  {
   "cell_type": "markdown",
   "metadata": {},
   "source": [
    "### 03/08"
   ]
  },
  {
   "cell_type": "code",
   "execution_count": null,
   "metadata": {},
   "outputs": [],
   "source": [
    "a, b, c = map(int, input().split())\n",
    "ls = [a, b, c]\n",
    "ls.sort()\n",
    "if ls[1] == b:\n",
    "    print('Yes')\n",
    "else:\n",
    "    print('No')"
   ]
  },
  {
   "cell_type": "code",
   "execution_count": null,
   "metadata": {},
   "outputs": [],
   "source": [
    "H, W = map(int, input().split())\n",
    "S = [list(input()) for _ in range(H)]\n",
    "ls = []\n",
    " \n",
    "for i in range(H):\n",
    "    for j in range(W):\n",
    "        if S[i][j] == 'o':\n",
    "            ls.append([i, j])\n",
    " \n",
    "x = abs(ls[1][0] - ls[0][0])\n",
    "y = abs(ls[1][1] - ls[0][1])\n",
    "# print(x, y)\n",
    "print(x + y)"
   ]
  },
  {
   "cell_type": "code",
   "execution_count": null,
   "metadata": {},
   "outputs": [],
   "source": []
  },
  {
   "cell_type": "code",
   "execution_count": null,
   "metadata": {},
   "outputs": [],
   "source": [
    "import math\n",
    "\n",
    "def sm(N):\n",
    "    return ((N + 1) * N) // 2\n",
    "\n",
    "N, A, B = map(int, input().split())\n",
    "num1 = N // A\n",
    "num2 = N // B\n",
    "num = math.gcd(A, B)\n",
    "C = A * B // num\n",
    "num3 = N // C\n",
    "ans = sm(N) - A * sm(num1) - B * sm(num2) + C * sm(num3)\n",
    "print(ans)\n"
   ]
  }
 ],
 "metadata": {
  "language_info": {
   "name": "python"
  },
  "orig_nbformat": 4
 },
 "nbformat": 4,
 "nbformat_minor": 2
}
