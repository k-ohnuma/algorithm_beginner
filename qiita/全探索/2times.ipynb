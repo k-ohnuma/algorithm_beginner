{
 "cells": [
  {
   "cell_type": "markdown",
   "metadata": {},
   "source": [
    "### 全列挙"
   ]
  },
  {
   "cell_type": "code",
   "execution_count": null,
   "metadata": {},
   "outputs": [],
   "source": [
    "ls = []\n",
    "while True:\n",
    "    nums = list(map(int, input().split()))\n",
    "    if nums == [0, 0]:\n",
    "        break\n",
    "    ls.append(nums)\n",
    "\n",
    "for num in ls:\n",
    "    n, x = num\n",
    "    ans = 0\n",
    "    for i in range(1, n + 1):\n",
    "        for j in range(i + 1, n + 1):\n",
    "            for k in range(j + 1, n + 1):\n",
    "                if i + j + k == x:\n",
    "                    ans += 1\n",
    "    print(ans)"
   ]
  },
  {
   "cell_type": "code",
   "execution_count": null,
   "metadata": {},
   "outputs": [],
   "source": [
    "def yakusu(N):\n",
    "    ans = 0\n",
    "    for i in range(1, N + 1):\n",
    "        if N % i == 0:\n",
    "            ans += 1\n",
    "            \n",
    "    return ans\n",
    "count = 0\n",
    "N = int(input())\n",
    "for i in range(1, N + 1, 2):\n",
    "    num = yakusu(i)\n",
    "    if num == 8:\n",
    "        count += 1\n",
    "print(count)"
   ]
  },
  {
   "cell_type": "code",
   "execution_count": null,
   "metadata": {},
   "outputs": [],
   "source": [
    "S = input()\n",
    "ls = ['A', 'C', 'G', 'T']\n",
    "start = False\n",
    "start_idx = -1\n",
    "stop_idx = -1\n",
    "ans = []\n",
    "for i, word in enumerate(S):\n",
    "    if not start and word in ls:\n",
    "        start = True\n",
    "        start_idx = i\n",
    "    elif start and word not in ls:\n",
    "        start = False\n",
    "        stop_idx = i - 1\n",
    "        ans.append(stop_idx - start_idx + 1)\n",
    "        start_idx = -1\n",
    "        stop_idx = -1\n",
    "        \n",
    "if start:\n",
    "    stop_idx = len(S) - 1\n",
    "    ans.append(stop_idx - start_idx + 1)\n",
    "\n",
    "if ans:\n",
    "    print(max(ans))\n",
    "else:\n",
    "    print(0)"
   ]
  },
  {
   "cell_type": "code",
   "execution_count": null,
   "metadata": {},
   "outputs": [],
   "source": [
    "N, M = map(int, input().split())\n",
    "A = [list(map(int, input().split())) for _ in range(N)]\n",
    "\n",
    "ans = []\n",
    "\n",
    "for i in range(M):\n",
    "    for j in range(i + 1, M):\n",
    "        num = 0\n",
    "        for k in range(N):\n",
    "            num += max(A[k][i], A[k][j])\n",
    "        ans.append(num)\n",
    "        \n",
    "print(max(ans))"
   ]
  },
  {
   "cell_type": "markdown",
   "metadata": {},
   "source": [
    "### 工夫して通り数を減らす全列挙"
   ]
  },
  {
   "cell_type": "code",
   "execution_count": null,
   "metadata": {},
   "outputs": [],
   "source": [
    "A, B, C, X, Y = map(int, input().split())\n",
    "ans = []\n",
    "#1\n",
    "num = A * X + B * Y\n",
    "ans.append(num)\n",
    "#2\n",
    "num = max(X, Y) * C * 2\n",
    "ans.append(num)\n",
    "#3 X > Y\n",
    "num = max(0, (X - Y)) * A + 2 * C * Y\n",
    "ans.append(num)\n",
    "#4 X < Y\n",
    "num = max(0, (Y - X)) * B + 2 * C * X\n",
    "ans.append(num)\n",
    "\n",
    "print(min(ans))"
   ]
  },
  {
   "cell_type": "code",
   "execution_count": null,
   "metadata": {},
   "outputs": [],
   "source": [
    "def main(ls, x):\n",
    "    if x in ls:\n",
    "        return ls.index(x)\n",
    "    else:\n",
    "        return -1\n",
    "    \n",
    "N = int(input())\n",
    "S = list(input())\n",
    "\n",
    "ans = 0\n",
    "\n",
    "for i in range(1000):\n",
    "    word = f'{i:03}'\n",
    "    i0 = main(S, word[0])\n",
    "    if i0 == -1:\n",
    "        continue\n",
    "    i1 = main(S[i0+1:], word[1])\n",
    "    if i1 == -1:\n",
    "        continue\n",
    "    i2 = main(S[i0+i1+2:], word[2])\n",
    "    if i2 == -1:\n",
    "        continue\n",
    "    ans += 1\n",
    "    \n",
    "print(ans)"
   ]
  },
  {
   "cell_type": "code",
   "execution_count": null,
   "metadata": {},
   "outputs": [],
   "source": []
  },
  {
   "cell_type": "code",
   "execution_count": null,
   "metadata": {},
   "outputs": [],
   "source": []
  },
  {
   "cell_type": "code",
   "execution_count": null,
   "metadata": {},
   "outputs": [],
   "source": []
  },
  {
   "cell_type": "markdown",
   "metadata": {},
   "source": [
    "### bit全探索"
   ]
  },
  {
   "cell_type": "code",
   "execution_count": null,
   "metadata": {},
   "outputs": [],
   "source": [
    "from itertools import product\n",
    "\n",
    "n = int(input())\n",
    "A = list(map(int, input().split()))\n",
    "q = int(input())\n",
    "que = list(map(int, input().split()))\n",
    "\n",
    "for mi in que:\n",
    "    ans = False\n",
    "    for flgs in product([0, 1] , repeat=n):\n",
    "        ls = [num for num, flg in zip(A, flgs) if flg == 1]\n",
    "        if sum(ls) == mi:\n",
    "            ans = True\n",
    "            break\n",
    "    print('yes' if ans else 'no')"
   ]
  },
  {
   "cell_type": "code",
   "execution_count": null,
   "metadata": {},
   "outputs": [],
   "source": []
  },
  {
   "cell_type": "code",
   "execution_count": null,
   "metadata": {},
   "outputs": [],
   "source": []
  },
  {
   "cell_type": "code",
   "execution_count": null,
   "metadata": {},
   "outputs": [],
   "source": []
  },
  {
   "cell_type": "code",
   "execution_count": null,
   "metadata": {},
   "outputs": [],
   "source": []
  },
  {
   "cell_type": "code",
   "execution_count": null,
   "metadata": {},
   "outputs": [],
   "source": []
  },
  {
   "cell_type": "code",
   "execution_count": null,
   "metadata": {},
   "outputs": [],
   "source": []
  },
  {
   "cell_type": "code",
   "execution_count": null,
   "metadata": {},
   "outputs": [],
   "source": []
  },
  {
   "cell_type": "code",
   "execution_count": null,
   "metadata": {},
   "outputs": [],
   "source": []
  },
  {
   "cell_type": "code",
   "execution_count": null,
   "metadata": {},
   "outputs": [],
   "source": []
  },
  {
   "cell_type": "code",
   "execution_count": null,
   "metadata": {},
   "outputs": [],
   "source": []
  },
  {
   "cell_type": "code",
   "execution_count": null,
   "metadata": {},
   "outputs": [],
   "source": []
  }
 ],
 "metadata": {
  "kernelspec": {
   "display_name": "base",
   "language": "python",
   "name": "python3"
  },
  "language_info": {
   "name": "python",
   "version": "3.9.13 (main, Aug 25 2022, 23:26:10) \n[GCC 11.2.0]"
  },
  "orig_nbformat": 4,
  "vscode": {
   "interpreter": {
    "hash": "40d3a090f54c6569ab1632332b64b2c03c39dcf918b08424e98f38b5ae0af88f"
   }
  }
 },
 "nbformat": 4,
 "nbformat_minor": 2
}
