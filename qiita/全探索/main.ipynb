{
 "cells": [
  {
   "cell_type": "code",
   "execution_count": null,
   "metadata": {},
   "outputs": [],
   "source": [
    "#https://judge.u-aizu.ac.jp/onlinejudge/description.jsp?id=ITP1_7_B&lang=ja\n",
    "pro_ls = []\n",
    "while True:\n",
    "    tmp = list(map(int, input().split()))\n",
    "    if tmp == [0, 0]:\n",
    "        break\n",
    "    pro_ls.append(tmp)\n",
    "ans = []\n",
    "for pro in pro_ls:\n",
    "    n, x = pro\n",
    "    count = 0\n",
    "    for i in range(1, n + 1):\n",
    "        for j in range(i + 1, n + 1):\n",
    "            for k in range(j + 1, n + 1):\n",
    "                if i == j or j == k or i == k:\n",
    "                    continue\n",
    "                if i + j + k == x:\n",
    "                    count += 1 \n",
    "    ans.append(count)\n",
    "    \n",
    "for i in ans:\n",
    "    print(i)            "
   ]
  },
  {
   "cell_type": "code",
   "execution_count": null,
   "metadata": {},
   "outputs": [],
   "source": [
    "#https://atcoder.jp/contests/abc106/tasks/abc106_b\n",
    "N = int(input())\n",
    "ans = 0\n",
    "for num in range(1, N + 1, 2):\n",
    "    count = 0\n",
    "    for i in range(1, num + 1):\n",
    "        if num % i == 0:\n",
    "            count += 1\n",
    "            \n",
    "    if count == 8:\n",
    "        ans += 1\n",
    "        \n",
    "print(ans)\n",
    "        \n",
    "    "
   ]
  },
  {
   "cell_type": "code",
   "execution_count": null,
   "metadata": {},
   "outputs": [],
   "source": [
    "#https://atcoder.jp/contests/abc122/tasks/abc122_b\n",
    "S = input()\n",
    "ls = ['A', 'T', 'G', 'C']\n",
    "start = False\n",
    "count = 0\n",
    "ans_ls = []\n",
    "for word in S:\n",
    "    if word in ls and not start:\n",
    "        start = True\n",
    "        count += 1\n",
    "        continue\n",
    "        \n",
    "    if start:\n",
    "        if word in ls:\n",
    "            count += 1\n",
    "        else:\n",
    "            start = False\n",
    "            ans_ls.append(count)\n",
    "            count = 0\n",
    "            \n",
    "ans_ls.append(count)\n",
    "\n",
    "print(max(ans_ls))\n",
    "        \n",
    "    "
   ]
  },
  {
   "cell_type": "code",
   "execution_count": null,
   "metadata": {},
   "outputs": [],
   "source": [
    "#https://atcoder.jp/contests/pakencamp-2019-day3/tasks/pakencamp_2019_day3_c\n",
    "N, M = map(int, input().split())\n",
    "A = [list(map(int, input().split())) for _ in range(N)]\n",
    "score = 0\n",
    "ans = []\n",
    "for i in range(M):\n",
    "    for j in range(i + 1, M):\n",
    "        for k in range(N):\n",
    "            score += max(A[k][i], A[k][j])\n",
    "        ans.append(score)\n",
    "        score = 0\n",
    "        \n",
    "print(max(ans))"
   ]
  },
  {
   "cell_type": "code",
   "execution_count": null,
   "metadata": {},
   "outputs": [],
   "source": [
    "#https://atcoder.jp/contests/abc095/tasks/arc096_a\n",
    "A, B, C, X, Y = map(int, input().split())\n",
    "\n",
    "p1 = A * X + B * Y\n",
    "p2 = max(X * 2 * C, X * 2 * C + (Y - X) * B)\n",
    "p3 = max(Y * 2 * C, Y * 2 * C + (X - Y) * A)\n",
    "p4 = (max(X, Y)) * 2 * C\n",
    "\n",
    "print(min(p1, p2, p3, p4))"
   ]
  },
  {
   "cell_type": "code",
   "execution_count": null,
   "metadata": {},
   "outputs": [],
   "source": []
  },
  {
   "cell_type": "code",
   "execution_count": null,
   "metadata": {},
   "outputs": [],
   "source": []
  },
  {
   "cell_type": "code",
   "execution_count": null,
   "metadata": {},
   "outputs": [],
   "source": []
  },
  {
   "cell_type": "code",
   "execution_count": null,
   "metadata": {},
   "outputs": [],
   "source": []
  }
 ],
 "metadata": {
  "kernelspec": {
   "display_name": "base",
   "language": "python",
   "name": "python3"
  },
  "language_info": {
   "name": "python",
   "version": "3.9.13 (main, Aug 25 2022, 23:26:10) \n[GCC 11.2.0]"
  },
  "orig_nbformat": 4,
  "vscode": {
   "interpreter": {
    "hash": "40d3a090f54c6569ab1632332b64b2c03c39dcf918b08424e98f38b5ae0af88f"
   }
  }
 },
 "nbformat": 4,
 "nbformat_minor": 2
}
