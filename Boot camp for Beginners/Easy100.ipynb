{
 "cells": [
  {
   "cell_type": "code",
   "execution_count": null,
   "metadata": {},
   "outputs": [],
   "source": [
    "### できんかった問題\n",
    "#https://atcoder.jp/contests/abc153/tasks/abc153_d"
   ]
  },
  {
   "cell_type": "markdown",
   "metadata": {},
   "source": [
    "### 1-10"
   ]
  },
  {
   "cell_type": "code",
   "execution_count": null,
   "metadata": {},
   "outputs": [],
   "source": [
    "A, B = map(int, input().split())\n",
    "count = 0\n",
    "now = 1\n",
    "while now < B:\n",
    "    now -= 1\n",
    "    now += A\n",
    "    count += 1\n",
    "    \n",
    "print(count)"
   ]
  },
  {
   "cell_type": "code",
   "execution_count": null,
   "metadata": {},
   "outputs": [],
   "source": [
    "N = int(input())\n",
    "X = list(map(int, input().split()))\n",
    "ls = []\n",
    "for p in range(1, 101):\n",
    "    tmp = 0\n",
    "    for num in X:\n",
    "        tmp += (num - p) ** 2\n",
    "    ls.append(tmp)\n",
    "\n",
    "print(min(ls))"
   ]
  },
  {
   "cell_type": "code",
   "execution_count": null,
   "metadata": {},
   "outputs": [],
   "source": [
    "N, A, B = map(int, input().split())\n",
    "S = input()\n",
    "\n",
    "all = 0\n",
    "kaigai = 0\n",
    "\n",
    "for word in S:\n",
    "    if word == 'a':\n",
    "        if all < A + B:\n",
    "            print('Yes')\n",
    "            all += 1\n",
    "        else:\n",
    "            print('No')\n",
    "    elif word == 'b':\n",
    "        if all < A + B and kaigai < B:\n",
    "            print('Yes')\n",
    "            all += 1\n",
    "            kaigai += 1\n",
    "        else:\n",
    "            print('No')\n",
    "    else:\n",
    "        print('No')"
   ]
  },
  {
   "cell_type": "code",
   "execution_count": null,
   "metadata": {},
   "outputs": [],
   "source": [
    "N = int(input())\n",
    "num = N / 1.08\n",
    "num = round(num)\n",
    "if int(num * 1.08) == N:\n",
    "    print(num)\n",
    "elif int((num + 1) * 1.08) == N:\n",
    "    print(num + 1) \n",
    "elif int((num - 1) * 1.08) == N:\n",
    "    print(num - 1)\n",
    "else:\n",
    "    print(':(')"
   ]
  },
  {
   "cell_type": "code",
   "execution_count": null,
   "metadata": {},
   "outputs": [],
   "source": [
    "N, M, C = map(int, input().split())\n",
    "B = list(map(int, input().split()))\n",
    "A = [list(map(int, input().split())) for _ in range(N)]\n",
    "ans = 0\n",
    "for ls in A:\n",
    "    count = 0\n",
    "    for a, b in zip(ls, B):\n",
    "        count += a * b\n",
    "\n",
    "    if count + C > 0:\n",
    "        ans += 1\n",
    "        \n",
    "print(ans)"
   ]
  },
  {
   "cell_type": "code",
   "execution_count": null,
   "metadata": {},
   "outputs": [],
   "source": [
    "H, W = map(int, input().split())\n",
    "if H == 1 or W == 1:\n",
    "    print(1)\n",
    "else:\n",
    "    num1 = ((H + 1) // 2) * ((W + 1) // 2)\n",
    "    num2 = (H - ((H + 1) // 2)) * (W - ((W + 1) // 2))\n",
    "    print(num1 + num2)"
   ]
  },
  {
   "cell_type": "code",
   "execution_count": null,
   "metadata": {},
   "outputs": [],
   "source": [
    "A = [list(map(int, input().split())) for _ in range(3)]\n",
    "ls = [[False] * 3 for _ in range(3)]\n",
    "\n",
    "N = int(input())\n",
    "for _ in range(N):\n",
    "    b = int(input())\n",
    "    for i in range(3):\n",
    "        for j in range(3):\n",
    "            if b == A[i][j]:\n",
    "                ls[i][j] = True\n",
    "\n",
    "for i in range(3):\n",
    "    if all(ls[i]):\n",
    "        exit(print('Yes'))\n",
    "\n",
    "for j in range(3):\n",
    "    tmp = [ls[0][j], ls[1][j], ls[2][j]]\n",
    "    if all(tmp):\n",
    "        exit(print('Yes'))\n",
    "\n",
    "if ls[0][0] and ls[1][1] and ls[2][2]:\n",
    "    exit(print('Yes'))\n",
    "if ls[0][2] and ls[1][1] and ls[2][0]:\n",
    "    exit(print('Yes'))\n",
    "\n",
    "print('No')"
   ]
  },
  {
   "cell_type": "code",
   "execution_count": null,
   "metadata": {},
   "outputs": [],
   "source": [
    "a, b = input().split()\n",
    "num = int(a + b)\n",
    "if (num ** (1 / 2)).is_integer():\n",
    "    print('Yes')\n",
    "else:\n",
    "    print('No')\n"
   ]
  },
  {
   "cell_type": "code",
   "execution_count": null,
   "metadata": {},
   "outputs": [],
   "source": [
    "N = int(input())\n",
    "K = int(input())\n",
    "X = list(map(int, input().split()))\n",
    "\n",
    "ans = 0\n",
    "\n",
    "for num in X:\n",
    "    ans += min(num * 2, 2 * abs(K - num))\n",
    "print(ans)"
   ]
  },
  {
   "cell_type": "code",
   "execution_count": null,
   "metadata": {},
   "outputs": [],
   "source": [
    "N = int(input())\n",
    "A = list(map(int, input().split()))\n",
    "A.sort(reverse=True)\n",
    "alice = 0\n",
    "bob = 0\n",
    "for i in range(N):\n",
    "    if i % 2 == 0:\n",
    "        alice += A[i]\n",
    "    else:\n",
    "        bob += A[i]\n",
    "\n",
    "print(alice - bob)"
   ]
  },
  {
   "cell_type": "markdown",
   "metadata": {},
   "source": [
    "### 11-20"
   ]
  },
  {
   "cell_type": "code",
   "execution_count": null,
   "metadata": {},
   "outputs": [],
   "source": [
    "N = int(input())\n",
    "ls = []\n",
    "for i in range(1, N + 1):\n",
    "    now = i\n",
    "    count = 0\n",
    "    while now % 2 == 0:\n",
    "        now //= 2\n",
    "        count += 1\n",
    "    ls.append(count)\n",
    "print(ls.index(max(ls)) + 1)"
   ]
  },
  {
   "cell_type": "code",
   "execution_count": null,
   "metadata": {},
   "outputs": [],
   "source": [
    "K, N = map(int, input().split())\n",
    "A = list(map(int, input().split()))\n",
    "\n",
    "ls = []\n",
    "ls.append((K + A[0]) - A[-1])\n",
    "for i in range(N - 1):\n",
    "    ls.append(A[i + 1] - A[i])\n",
    "\n",
    "print(K - max(ls))"
   ]
  },
  {
   "cell_type": "code",
   "execution_count": null,
   "metadata": {},
   "outputs": [],
   "source": [
    "ls = list(map(int, input().split()))\n",
    "tmp = []\n",
    "count = 0\n",
    "while all(i % 2 == 0 for i in ls):\n",
    "    num1 = ls[1] // 2 + ls[2] // 2\n",
    "    num2 = ls[0] // 2 + ls[2] // 2\n",
    "    num3 = ls[0] // 2 + ls[1] // 2\n",
    "    ls = [num1, num2, num3]\n",
    "    if ls in tmp:\n",
    "        exit(print(-1))\n",
    "    tmp.append(ls)\n",
    "    count += 1\n",
    "    # print(ls)\n",
    "    \n",
    "print(count)"
   ]
  },
  {
   "cell_type": "code",
   "execution_count": null,
   "metadata": {},
   "outputs": [],
   "source": [
    "N, K = map(int, input().split())\n",
    "num1 = N % K\n",
    "num2 = abs(num1 - K)\n",
    "print(min(num1, num2))"
   ]
  },
  {
   "cell_type": "code",
   "execution_count": null,
   "metadata": {},
   "outputs": [],
   "source": [
    "N = int(input())\n",
    "D = list(map(int, input().split()))\n",
    "D.sort()\n",
    "print(D[N // 2] - D[N // 2 - 1])"
   ]
  },
  {
   "cell_type": "code",
   "execution_count": null,
   "metadata": {},
   "outputs": [],
   "source": [
    "N = int(input())\n",
    "A = list(map(int, input().split()))\n",
    "\n",
    "ls = [-1] * (N)\n",
    "for i in range(1, N + 1):\n",
    "    ls[A[i - 1] - 1] = i\n",
    "\n",
    "print(*ls)\n",
    "    "
   ]
  },
  {
   "cell_type": "code",
   "execution_count": null,
   "metadata": {},
   "outputs": [],
   "source": [
    "N = int(input())\n",
    "v = list(map(int, input().split()))\n",
    "v.sort()\n",
    "\n",
    "ans = v[0]\n",
    "for i in range(1, N):\n",
    "    ans = (ans + v[i]) / 2\n",
    "print(ans)"
   ]
  },
  {
   "cell_type": "code",
   "execution_count": null,
   "metadata": {},
   "outputs": [],
   "source": [
    "S = list(input())\n",
    "\n",
    "flg = False\n",
    "ls = ['A', 'T', 'G', 'C']\n",
    "ans = 0\n",
    "a = []\n",
    "for word in S:\n",
    "    if not flg and word in ls:\n",
    "        flg = True\n",
    "        ans += 1\n",
    "    elif flg and word not in ls:\n",
    "        flg = False\n",
    "        a.append(ans)\n",
    "        ans = 0\n",
    "    elif flg:\n",
    "        ans += 1\n",
    "        \n",
    "if flg:\n",
    "    flg = False\n",
    "    a.append(ans)\n",
    "\n",
    "if a:\n",
    "    print(max(a))\n",
    "else:\n",
    "    print(0)"
   ]
  },
  {
   "cell_type": "code",
   "execution_count": null,
   "metadata": {},
   "outputs": [],
   "source": [
    "N, M, X = map(int, input().split())\n",
    "A = list(map(int, input().split()))\n",
    "flg = [False] * (N + 1)\n",
    "for num in A:\n",
    "    flg[num] = True\n",
    "left = 0\n",
    "right = 0\n",
    "for i in range(N + 1):\n",
    "    if i <= X and flg[i]:\n",
    "        left += 1\n",
    "    elif i > X and flg[i]:\n",
    "        right += 1\n",
    "        \n",
    "print(min(left, right))\n",
    "        "
   ]
  },
  {
   "cell_type": "code",
   "execution_count": null,
   "metadata": {},
   "outputs": [],
   "source": [
    "def f(n):\n",
    "    if n % 2 == 0:\n",
    "        return n // 2\n",
    "    else:\n",
    "        return 3 * n + 1\n",
    "    \n",
    "s = int(input())\n",
    "ans = 0\n",
    "ls = []\n",
    "while True:\n",
    "    # print(s)\n",
    "    \n",
    "    ls.append(s)\n",
    "    s = f(s)\n",
    "    ans += 1\n",
    "    if s in ls:\n",
    "        break\n",
    "    \n",
    "print(ans + 1)"
   ]
  },
  {
   "cell_type": "markdown",
   "metadata": {},
   "source": [
    "### 21-30"
   ]
  },
  {
   "cell_type": "code",
   "execution_count": null,
   "metadata": {},
   "outputs": [],
   "source": [
    "def func(N):\n",
    "    for i in range(2, int(N ** (1 / 2) + 1)):\n",
    "        if N % i == 0:\n",
    "            return False\n",
    "    return True\n",
    "\n",
    "X = int(input())\n",
    "\n",
    "while True:\n",
    "    if func(X):\n",
    "        exit(print(X))\n",
    "    X += 1\n",
    "    \n"
   ]
  },
  {
   "cell_type": "code",
   "execution_count": null,
   "metadata": {},
   "outputs": [],
   "source": [
    "N, x = map(int, input().split())\n",
    "A = list(map(int, input().split()))\n",
    "\n",
    "A.sort()\n",
    "count = 0\n",
    "for num in A[:-1]:\n",
    "    if x - num == 0:\n",
    "        x -= num\n",
    "        count += 1\n",
    "        break\n",
    "    elif x - num > 0:\n",
    "        x -= num\n",
    "        count += 1\n",
    "    else:\n",
    "        break\n",
    "if x == A[-1]:\n",
    "    count += 1\n",
    "print(count)"
   ]
  },
  {
   "cell_type": "code",
   "execution_count": null,
   "metadata": {},
   "outputs": [],
   "source": [
    "N = int(input())\n",
    "D, X = map(int, input().split())\n",
    "ans = 0\n",
    "for _ in range(N):\n",
    "    A = int(input())\n",
    "    num = D % A\n",
    "    if num == 0:\n",
    "        ans += D // A\n",
    "    else:\n",
    "        ans += D // A + 1\n",
    "    \n",
    "print(ans + X)"
   ]
  },
  {
   "cell_type": "code",
   "execution_count": null,
   "metadata": {},
   "outputs": [],
   "source": [
    "A, B, M = map(int, input().split())\n",
    "a = list(map(int, input().split()))\n",
    "b = list(map(int, input().split()))\n",
    "ans1 = min(a) + min(b)\n",
    "ls = []\n",
    "for _ in range(M):\n",
    "    x, y, c = map(int, input().split())\n",
    "    ls.append(a[x - 1] + b[y - 1] - c)\n",
    "\n",
    "ans2 = min(ls)\n",
    "# print(ans1, ans2)\n",
    "print(min(ans1, ans2))\n",
    "    "
   ]
  },
  {
   "cell_type": "code",
   "execution_count": null,
   "metadata": {},
   "outputs": [],
   "source": [
    "from itertools import permutations\n",
    "\n",
    "N = int(input())\n",
    "P = list(map(int, input().split()))\n",
    "Q = list(map(int, input().split()))\n",
    "\n",
    "ls = list(permutations(list(range(1, N + 1))))\n",
    "ls = list(map(list, ls))\n",
    "\n",
    "a = ls.index(P)\n",
    "b = ls.index(Q)\n",
    "print(abs(a - b))"
   ]
  },
  {
   "cell_type": "code",
   "execution_count": null,
   "metadata": {},
   "outputs": [],
   "source": [
    "H = int(input())\n",
    " \n",
    "import numpy as np\n",
    " \n",
    "n = int(np.log2(H))\n",
    "print(2 ** (n + 1) - 1)"
   ]
  },
  {
   "cell_type": "code",
   "execution_count": null,
   "metadata": {},
   "outputs": [],
   "source": [
    "N, A, B = map(int, input().split())\n",
    "num1 = N // (A + B)\n",
    "num2 = N % (A + B)\n",
    "ans = A * num1\n",
    "if num2 <= A:\n",
    "    ans += num2\n",
    "else:\n",
    "    ans += A\n",
    "\n",
    "print(ans)\n"
   ]
  },
  {
   "cell_type": "code",
   "execution_count": null,
   "metadata": {},
   "outputs": [],
   "source": [
    "N = int(input())\n",
    "A = list(map(int, input().split()))\n",
    "\n",
    "ans = []\n",
    "for num in A:\n",
    "    count = 0\n",
    "    while True:\n",
    "        if num % 2 != 0:\n",
    "            ans.append(count)\n",
    "            break\n",
    "        num //= 2\n",
    "        count += 1\n",
    "# print(ans)\n",
    "print(min(ans))"
   ]
  },
  {
   "cell_type": "code",
   "execution_count": null,
   "metadata": {},
   "outputs": [],
   "source": [
    "S = (input())\n",
    "m = 1 << 30\n",
    "for i in range(len(S) - 2):\n",
    "    num = int(S[i:i + 3])\n",
    "    m = min(m, abs(num - 753))\n",
    "    \n",
    "print(m)"
   ]
  },
  {
   "cell_type": "code",
   "execution_count": null,
   "metadata": {},
   "outputs": [],
   "source": [
    "x1, y1, x2, y2 = map(int, input().split())\n",
    "x = x1 - x2\n",
    "y = y2 - y1\n",
    "\n",
    "x3 = x2 - y\n",
    "y3 = y2 - x\n",
    "x4 = x3 + x\n",
    "y4 = y3 - y\n",
    "print(x3, y3, x4, y4) "
   ]
  },
  {
   "cell_type": "markdown",
   "metadata": {},
   "source": [
    "### 31-40"
   ]
  },
  {
   "cell_type": "code",
   "execution_count": null,
   "metadata": {},
   "outputs": [],
   "source": [
    "S = list(input())\n",
    "s = set(S)\n",
    "if len(S) == len(s):\n",
    "    print('yes')\n",
    "else:\n",
    "    print('no')"
   ]
  },
  {
   "cell_type": "code",
   "execution_count": null,
   "metadata": {},
   "outputs": [],
   "source": [
    "N = int(input())\n",
    "S = list(input())\n",
    "ans = []\n",
    "now = 0\n",
    "for word in S:\n",
    "    if word == 'I':\n",
    "       now += 1\n",
    "    else:\n",
    "        now -= 1\n",
    "    ans.append(now) \n",
    "ans = max(ans)\n",
    "print(max(0, ans))"
   ]
  },
  {
   "cell_type": "code",
   "execution_count": null,
   "metadata": {},
   "outputs": [],
   "source": [
    "A, B = map(int, input().split())\n",
    "S = list(input())\n",
    "\n",
    "if S[A] != '-':\n",
    "    exit(print('No'))\n",
    "\n",
    "ls = list(range(10))\n",
    "ls = list(map(str, ls))\n",
    "word1 = S[:A]\n",
    "word2 = S[(A + 1):]\n",
    "\n",
    "for word in word1:\n",
    "    if (word) not in ls:\n",
    "        exit(print('No'))\n",
    "for word in word2:\n",
    "    if (word) not in ls:\n",
    "        exit(print('No'))\n",
    "\n",
    "print('Yes')"
   ]
  },
  {
   "cell_type": "code",
   "execution_count": null,
   "metadata": {},
   "outputs": [],
   "source": [
    "A = int(input())\n",
    "B = int(input())\n",
    "C = int(input())\n",
    "X = int(input())\n",
    "count = 0\n",
    "for a in range(A + 1):\n",
    "    for b in range(B + 1):\n",
    "        for c in range(C + 1):\n",
    "            if a * 500 + b * 100 + c * 50 == X:\n",
    "                count += 1\n",
    "                \n",
    "print(count)"
   ]
  },
  {
   "cell_type": "code",
   "execution_count": null,
   "metadata": {},
   "outputs": [],
   "source": [
    "S = list(input())\n",
    "ls = []\n",
    "for i in range(ord('a'), ord('z') + 1):\n",
    "    ls.append(chr(i))\n",
    "ans = []\n",
    "# print(ls)\n",
    "\n",
    "for word in ls:\n",
    "    if word not in S:\n",
    "        ans.append(word)\n",
    "\n",
    "ans.sort()\n",
    "# print(ans)\n",
    "if ans:\n",
    "    print(ans[0])\n",
    "else:\n",
    "    print('None')"
   ]
  },
  {
   "cell_type": "code",
   "execution_count": null,
   "metadata": {},
   "outputs": [],
   "source": [
    "N, M = map(int, input().split())\n",
    "max_l = -1\n",
    "min_r = 10 ** 8\n",
    "\n",
    "for _ in range(M):\n",
    "    L, R = map(int, input().split())\n",
    "    max_l = max(max_l, L)\n",
    "    min_r = min(min_r, R)\n",
    "\n",
    "if max_l > min_r:\n",
    "    exit(print(0))\n",
    "else:\n",
    "    print(min_r - max_l + 1)"
   ]
  },
  {
   "cell_type": "code",
   "execution_count": null,
   "metadata": {},
   "outputs": [],
   "source": [
    "from collections import defaultdict\n",
    "\n",
    "N, K, Q = map(int, input().split())\n",
    "A = [int(input()) for _ in range(Q)]\n",
    "d = defaultdict(int)\n",
    "\n",
    "for i in range(1, N + 1):\n",
    "    d[i] += K - Q\n",
    "\n",
    "for num in A:\n",
    "    d[num] += 1\n",
    "    \n",
    "for key in d:\n",
    "    if d[key] > 0:\n",
    "        print('Yes')\n",
    "    else:\n",
    "        print('No')"
   ]
  },
  {
   "cell_type": "code",
   "execution_count": null,
   "metadata": {},
   "outputs": [],
   "source": [
    "A = int(input())\n",
    "B = int(input())\n",
    "C = int(input())\n",
    "D = int(input())\n",
    "E = int(input())\n",
    "\n",
    "num1 = A + (10 - A % 10) % 10 + B + (10 - B % 10) % 10 + C + (10 - C % 10) % 10 + D + (10 - D % 10) % 10 + E\n",
    "num2 = E + (10 - E % 10) % 10 + B + (10 - B % 10) % 10 + C + (10 - C % 10) % 10 + D + (10 - D % 10) % 10 + A\n",
    "num3 = A + (10 - A % 10) % 10 + E + (10 - E % 10) % 10 + C + (10 - C % 10) % 10 + D + (10 - D % 10) % 10 + B\n",
    "num4 = A + (10 - A % 10) % 10 + B + (10 - B % 10) % 10 + E + (10 - E % 10) % 10 + D + (10 - D % 10) % 10 + C\n",
    "num5 = A + (10 - A % 10) % 10 + B + (10 - B % 10) % 10 + C + (10 - C % 10) % 10 + E + (10 - E % 10) % 10 + D\n",
    "print(min(num1, num2, num3, num4, num5))"
   ]
  },
  {
   "cell_type": "code",
   "execution_count": null,
   "metadata": {},
   "outputs": [],
   "source": [
    "N = int(input())\n",
    "A = [int(input()) for _ in range(N)]\n",
    "s_A = sorted(A, reverse=True)\n",
    "\n",
    "for num in A:\n",
    "    if num == s_A[0]:\n",
    "        print(s_A[1])\n",
    "    else:\n",
    "        print(s_A[0])"
   ]
  },
  {
   "cell_type": "code",
   "execution_count": null,
   "metadata": {},
   "outputs": [],
   "source": [
    "a, b = map(int, input().split())\n",
    "\n",
    "if a <= 0 and b >= 0:\n",
    "    exit(print('Zero'))\n",
    "if a > 0 and b > 0:\n",
    "    exit(print('Positive'))\n",
    "if (b - a + 1) % 2 == 0 :\n",
    "    exit(print('Positive'))\n",
    "else:\n",
    "    print('Negative')"
   ]
  },
  {
   "cell_type": "markdown",
   "metadata": {},
   "source": [
    "### 41-50"
   ]
  },
  {
   "cell_type": "code",
   "execution_count": null,
   "metadata": {},
   "outputs": [],
   "source": [
    "N = int(input())\n",
    "P = list(map(int, input().split()))\n",
    "ls = []\n",
    "num = P[0]\n",
    "for tmp in P:\n",
    "    num = min(num, tmp)\n",
    "    ls.append(num)\n",
    "\n",
    "count = 1\n",
    "for i in range(1, N):\n",
    "    if P[i] <= ls[i - 1]:\n",
    "        count += 1\n",
    "print(count)\n",
    "        \n",
    "        \n",
    "        "
   ]
  },
  {
   "cell_type": "code",
   "execution_count": null,
   "metadata": {},
   "outputs": [],
   "source": [
    "from collections import defaultdict\n",
    "\n",
    "N, M = map(int, input().split())\n",
    "A = []\n",
    "d = defaultdict(int)\n",
    "for _ in range(N):\n",
    "    ls = list(map(int, input().split()))\n",
    "    ls = ls[1:]\n",
    "    for num in ls:\n",
    "        d[num] += 1\n",
    "count = 0\n",
    "for key in d:\n",
    "    if d[key] == N:\n",
    "        count += 1\n",
    "        \n",
    "print(count)"
   ]
  },
  {
   "cell_type": "code",
   "execution_count": null,
   "metadata": {},
   "outputs": [],
   "source": [
    "from collections import defaultdict\n",
    "\n",
    "w = input()\n",
    "d = defaultdict(int)\n",
    "for word in w:\n",
    "    d[word] += 1\n",
    "\n",
    "for key in d:\n",
    "    if d[key] % 2 != 0:\n",
    "        exit(print('No'))\n",
    "        \n",
    "\n",
    "print('Yes')"
   ]
  },
  {
   "cell_type": "code",
   "execution_count": null,
   "metadata": {},
   "outputs": [],
   "source": [
    "S = list(map(int, input()))\n",
    "# print(S)\n",
    "count1 = 0\n",
    "now = 0\n",
    "\n",
    "for num in S:\n",
    "    if num != now:\n",
    "        count1 += 1\n",
    "    now = 1 - now\n",
    "\n",
    "now = 1\n",
    "count2 = 0\n",
    "for num in S:\n",
    "    if num != now:\n",
    "        count2 += 1\n",
    "    now = 1 - now\n",
    "\n",
    "print(min(count1, count2))"
   ]
  },
  {
   "cell_type": "code",
   "execution_count": null,
   "metadata": {},
   "outputs": [],
   "source": [
    "A, B = map(int, input().split())\n",
    "count = 0\n",
    "\n",
    "for num in range(A, B + 1):\n",
    "    word = str(num)\n",
    "    if word == word[::-1]:\n",
    "        count += 1\n",
    "    \n",
    "print(count)"
   ]
  },
  {
   "cell_type": "code",
   "execution_count": null,
   "metadata": {},
   "outputs": [],
   "source": [
    "A, B, C, K = map(int, input().split())\n",
    "if K % 2 == 0:\n",
    "    print(A - B)\n",
    "else:\n",
    "    print(B - A)"
   ]
  },
  {
   "cell_type": "code",
   "execution_count": null,
   "metadata": {},
   "outputs": [],
   "source": [
    "N = int(input())\n",
    "H = list(map(int, input().split()))\n",
    "H.reverse()\n",
    "# print(H)\n",
    "ls = []\n",
    "count = 0\n",
    "for i in range(1, N):\n",
    "    if H[i] >= H[i - 1]:\n",
    "        count += 1\n",
    "    else:\n",
    "        ls.append(count)\n",
    "        count = 0\n",
    "ls.append(count)\n",
    "print(max(ls))"
   ]
  },
  {
   "cell_type": "code",
   "execution_count": null,
   "metadata": {},
   "outputs": [],
   "source": [
    "H, W = map(int, input().split())\n",
    "A = [input() for _ in range(H)]\n",
    "print('#' * (W + 2))\n",
    "for i in range(H):\n",
    "    print(f'#{A[i]}#')\n",
    "\n",
    "print('#' * (W + 2))"
   ]
  },
  {
   "cell_type": "code",
   "execution_count": null,
   "metadata": {},
   "outputs": [],
   "source": [
    "A = int(input())\n",
    "B = int(input())\n",
    "\n",
    "print('GREATER' if A > B else 'LESS' if A < B else 'EQUAL')"
   ]
  },
  {
   "cell_type": "markdown",
   "metadata": {},
   "source": [
    "### 51-60"
   ]
  },
  {
   "cell_type": "code",
   "execution_count": null,
   "metadata": {},
   "outputs": [],
   "source": [
    "def func(N):\n",
    "    word = str(N)\n",
    "    count = 0\n",
    "    for w in word:\n",
    "        count += int(w)\n",
    "    return count\n",
    "\n",
    "N, A, B = map(int, input().split())\n",
    "ans = 0\n",
    "for i in range(1, N + 1):\n",
    "    num = func(i)\n",
    "    if A <= num <= B:\n",
    "        ans += i\n",
    "print(ans)\n",
    "    "
   ]
  },
  {
   "cell_type": "code",
   "execution_count": null,
   "metadata": {},
   "outputs": [],
   "source": [
    "N = int(input())\n",
    "B = list(map(int, input().split()))\n",
    "\n",
    "A = [B[0], B[-1]]\n",
    "for i in range(N - 2):\n",
    "    A.append(min(B[i], B[i + 1]))\n",
    "print(sum(A))\n"
   ]
  },
  {
   "cell_type": "code",
   "execution_count": null,
   "metadata": {},
   "outputs": [],
   "source": [
    "from collections import defaultdict\n",
    "\n",
    "N, M = map(int, input().split())\n",
    "G = defaultdict(list)\n",
    "for _ in range(M):\n",
    "    a, b = map(int, input().split())\n",
    "    a-=1\n",
    "    b -= 1\n",
    "    G[a].append(b)\n",
    "    G[b].append(a)\n",
    "\n",
    "for i in range(N):\n",
    "    print(len(G[i]))"
   ]
  },
  {
   "cell_type": "code",
   "execution_count": null,
   "metadata": {},
   "outputs": [],
   "source": [
    "N = int(input())\n",
    "pre_word = ''\n",
    "already = []\n",
    "\n",
    "for i in range(N):\n",
    "    W = input()\n",
    "    if i == 0:\n",
    "        pre_word = W[-1]\n",
    "        already.append(W)\n",
    "        continue\n",
    "    else:\n",
    "        if pre_word != W[0] or W in already:\n",
    "            exit(print('No'))\n",
    "        already.append(W)\n",
    "        pre_word = W[-1]\n",
    "        \n",
    "print('Yes')"
   ]
  },
  {
   "cell_type": "code",
   "execution_count": null,
   "metadata": {},
   "outputs": [],
   "source": [
    "from itertools import combinations\n",
    "\n",
    "def func(y, z):\n",
    "    s = 0\n",
    "    for y_v, z_v in zip(y, z):\n",
    "        s += (y_v - z_v) ** 2\n",
    "    return s ** (1 / 2)\n",
    "\n",
    "N, D = map(int, input().split())\n",
    "X = [list(map(int, input().split())) for _ in range(N)]\n",
    "ans = 0\n",
    "for comb in combinations(X, r=2):\n",
    "    y, z = comb\n",
    "    kyori = func(y, z)\n",
    "    if kyori.is_integer():\n",
    "        ans += 1\n",
    "print(ans)\n"
   ]
  },
  {
   "cell_type": "code",
   "execution_count": null,
   "metadata": {},
   "outputs": [],
   "source": [
    "A, B, K = map(int, input().split())\n",
    "s = set()\n",
    "if B - A + 1 <= K:\n",
    "    for i in range(A, B + 1):\n",
    "        print(i)\n",
    "else:\n",
    "    for v in range(A, A + K):\n",
    "        s.add(v)\n",
    "        \n",
    "    for v in range(B, B - K, -1):\n",
    "        s.add(v)\n",
    "        \n",
    "    s = list(s)\n",
    "    s.sort()\n",
    "    for num in s:\n",
    "        print(num)\n",
    "    "
   ]
  },
  {
   "cell_type": "code",
   "execution_count": null,
   "metadata": {},
   "outputs": [],
   "source": [
    "A, B = map(int, input().split())\n",
    "\n",
    "for i in range(1, 10001):\n",
    "    if int(i * 0.08) == A and int(i * 0.1) == B:\n",
    "        exit(print(i))\n",
    "print(-1)\n",
    "    "
   ]
  },
  {
   "cell_type": "code",
   "execution_count": null,
   "metadata": {},
   "outputs": [],
   "source": [
    "N = int(input())\n",
    "T, A = map(int, input().split())\n",
    "H = list(map(int, input().split()))\n",
    "ans = []\n",
    "for num in H:\n",
    "    num = T - num * 0.006\n",
    "    ans.append(abs(A - num))\n",
    "\n",
    "print(ans.index((min(ans))) + 1)"
   ]
  },
  {
   "cell_type": "code",
   "execution_count": null,
   "metadata": {},
   "outputs": [],
   "source": [
    "S = list(input())\n",
    "if S[0] != 'A' or S[2:-1].count('C') != 1:\n",
    "    exit(print('WA'))\n",
    "\n",
    "S.remove('C')\n",
    "for i in range(1, len(S)):\n",
    "    if S[i].isupper():\n",
    "        exit(print('WA'))\n",
    "print('AC')\n",
    "  "
   ]
  },
  {
   "cell_type": "code",
   "execution_count": null,
   "metadata": {},
   "outputs": [],
   "source": [
    "N = int(input())\n",
    "T = list(map(int, input().split()))\n",
    "\n",
    "M = int(input())\n",
    "\n",
    "\n",
    "for _ in range(M):\n",
    "    P, X = map(int, input().split())\n",
    "    P -= 1\n",
    "    s = sum(T)\n",
    "    s -= T[P]\n",
    "    s += X\n",
    "    print(s)"
   ]
  },
  {
   "cell_type": "markdown",
   "metadata": {},
   "source": [
    "### 61-70"
   ]
  },
  {
   "cell_type": "code",
   "execution_count": null,
   "metadata": {},
   "outputs": [],
   "source": [
    "S = list(input())\n",
    "T = list(input())\n",
    "\n",
    "for i in range(len(S)):\n",
    "    if S == T:\n",
    "        exit(print('Yes'))\n",
    "    S = S[1:] + [S[0]]\n",
    "print('No')"
   ]
  },
  {
   "cell_type": "code",
   "execution_count": null,
   "metadata": {},
   "outputs": [],
   "source": [
    "H, W = map(int, input().split())\n",
    "C = [list(input()) for _ in range(H)]\n",
    "for i in range(H):\n",
    "    print(''.join(C[i]))\n",
    "    print(''.join(C[i]))"
   ]
  },
  {
   "cell_type": "code",
   "execution_count": null,
   "metadata": {},
   "outputs": [],
   "source": [
    "N = int(input())\n",
    "A = list(map(int, input().split()))\n",
    "\n",
    "now = 1\n",
    "ans = 0\n",
    "\n",
    "if sorted(A)[0] != 1:\n",
    "    exit(print(-1))\n",
    "\n",
    "for num in A:\n",
    "    if num != now:\n",
    "        ans += 1\n",
    "    else:\n",
    "        now += 1\n",
    "        \n",
    "print(ans)"
   ]
  },
  {
   "cell_type": "code",
   "execution_count": null,
   "metadata": {},
   "outputs": [],
   "source": [
    "O = list(input())\n",
    "E = list(input())\n",
    "\n",
    "ans = []\n",
    "for i in range(len(E)):\n",
    "    ans.append(O[i])\n",
    "    ans.append(E[i])\n",
    "\n",
    "if len(O) == len(E) + 1:\n",
    "    ans.append(O[-1])\n",
    "\n",
    "print(''.join(ans))"
   ]
  },
  {
   "cell_type": "code",
   "execution_count": null,
   "metadata": {},
   "outputs": [],
   "source": [
    "S = list(input())\n",
    "start = False\n",
    "ans = []\n",
    "start_idx = -1\n",
    "for i in range(len(S)):\n",
    "    if S[i] == 'A' and not start:\n",
    "        start = True\n",
    "        start_idx = i\n",
    "    elif S[i] == 'Z' and start:\n",
    "        ans.append(i - start_idx + 1)\n",
    "\n",
    "print(max(ans))\n",
    "        "
   ]
  },
  {
   "cell_type": "code",
   "execution_count": null,
   "metadata": {},
   "outputs": [],
   "source": [
    "S = list(input())\n",
    "ls = [False] * 4\n",
    "\n",
    "for word in S:\n",
    "    if word == 'N':\n",
    "        ls[0] = True\n",
    "    elif word == 'S':\n",
    "        ls[1] = True\n",
    "    elif word == 'W':\n",
    "        ls[2] = True\n",
    "    else:\n",
    "        ls[3] = True\n",
    "flg1 = False\n",
    "flg2 = False\n",
    "\n",
    "if (ls[0] and ls[1]) or (not ls[0] and not ls[1]):\n",
    "    flg1 = True\n",
    "if (ls[2] and ls[3]) or (not ls[2] and not ls[3]):\n",
    "    flg2 = True\n",
    "\n",
    "if flg1 and flg2:\n",
    "    print('Yes')\n",
    "else:\n",
    "    print('No')"
   ]
  },
  {
   "cell_type": "code",
   "execution_count": null,
   "metadata": {},
   "outputs": [],
   "source": [
    "from collections import defaultdict\n",
    "\n",
    "N = int(input())\n",
    "d = defaultdict(int)\n",
    "\n",
    "for _ in range(N):\n",
    "    S = input()    \n",
    "    d[S] += 1\n",
    "v = max(d.values())\n",
    "ans = []\n",
    "for key in d:\n",
    "    if d[key] == v:\n",
    "        ans.append(key)\n",
    "\n",
    "ans.sort()\n",
    "for word in ans:\n",
    "    print(word)\n",
    "    "
   ]
  },
  {
   "cell_type": "code",
   "execution_count": null,
   "metadata": {},
   "outputs": [],
   "source": [
    "N = int(input())\n",
    "ls = []\n",
    "for _ in range(N):\n",
    "    S, P = input().split()\n",
    "    P = -int(P)\n",
    "    ls.append([S, P])\n",
    "\n",
    "ls1 = sorted(ls, key=lambda x: (x[0], x[1]))\n",
    "for i in range(N):\n",
    "    ls1[i][1] = -ls1[i][1]\n",
    "\n",
    "for word in ls1:\n",
    "    print(ls.index(word) + 1)"
   ]
  },
  {
   "cell_type": "code",
   "execution_count": null,
   "metadata": {},
   "outputs": [],
   "source": [
    "S = input()\n",
    "\n",
    "s1 = ''\n",
    "s2 = ''\n",
    "\n",
    "ans = 0\n",
    "for word in S:\n",
    "    s2 += word\n",
    "    if s1 != s2:\n",
    "        s1 = s2\n",
    "        s2 = ''\n",
    "        ans += 1\n",
    "print(ans)"
   ]
  },
  {
   "cell_type": "code",
   "execution_count": null,
   "metadata": {},
   "outputs": [],
   "source": [
    "X = int(input())\n",
    "dp = [False] * (X + 1)\n",
    "dp[0] = True\n",
    "ls = list(range(100, 106))\n",
    "for v in range(X):\n",
    "    if not dp[v]:\n",
    "        continue\n",
    "    for num in ls:\n",
    "        if v + num <= X:\n",
    "            dp[v + num] = True\n",
    "\n",
    "print('1' if dp[-1] else '0')\n",
    "        "
   ]
  },
  {
   "cell_type": "code",
   "execution_count": null,
   "metadata": {},
   "outputs": [],
   "source": []
  },
  {
   "cell_type": "code",
   "execution_count": null,
   "metadata": {},
   "outputs": [],
   "source": []
  },
  {
   "cell_type": "code",
   "execution_count": null,
   "metadata": {},
   "outputs": [],
   "source": []
  },
  {
   "cell_type": "code",
   "execution_count": null,
   "metadata": {},
   "outputs": [],
   "source": []
  },
  {
   "cell_type": "code",
   "execution_count": null,
   "metadata": {},
   "outputs": [],
   "source": []
  },
  {
   "cell_type": "code",
   "execution_count": null,
   "metadata": {},
   "outputs": [],
   "source": []
  },
  {
   "cell_type": "code",
   "execution_count": null,
   "metadata": {},
   "outputs": [],
   "source": []
  },
  {
   "cell_type": "code",
   "execution_count": null,
   "metadata": {},
   "outputs": [],
   "source": []
  },
  {
   "cell_type": "code",
   "execution_count": null,
   "metadata": {},
   "outputs": [],
   "source": []
  },
  {
   "cell_type": "code",
   "execution_count": null,
   "metadata": {},
   "outputs": [],
   "source": []
  },
  {
   "cell_type": "code",
   "execution_count": null,
   "metadata": {},
   "outputs": [],
   "source": []
  },
  {
   "cell_type": "code",
   "execution_count": null,
   "metadata": {},
   "outputs": [],
   "source": []
  },
  {
   "cell_type": "code",
   "execution_count": null,
   "metadata": {},
   "outputs": [],
   "source": []
  },
  {
   "cell_type": "code",
   "execution_count": null,
   "metadata": {},
   "outputs": [],
   "source": []
  },
  {
   "cell_type": "code",
   "execution_count": null,
   "metadata": {},
   "outputs": [],
   "source": []
  },
  {
   "cell_type": "code",
   "execution_count": null,
   "metadata": {},
   "outputs": [],
   "source": []
  },
  {
   "cell_type": "code",
   "execution_count": null,
   "metadata": {},
   "outputs": [],
   "source": []
  },
  {
   "cell_type": "code",
   "execution_count": null,
   "metadata": {},
   "outputs": [],
   "source": []
  },
  {
   "cell_type": "code",
   "execution_count": null,
   "metadata": {},
   "outputs": [],
   "source": []
  },
  {
   "cell_type": "code",
   "execution_count": null,
   "metadata": {},
   "outputs": [],
   "source": []
  },
  {
   "cell_type": "code",
   "execution_count": null,
   "metadata": {},
   "outputs": [],
   "source": []
  },
  {
   "cell_type": "code",
   "execution_count": null,
   "metadata": {},
   "outputs": [],
   "source": []
  }
 ],
 "metadata": {
  "kernelspec": {
   "display_name": "base",
   "language": "python",
   "name": "python3"
  },
  "language_info": {
   "name": "python",
   "version": "3.9.13"
  },
  "orig_nbformat": 4,
  "vscode": {
   "interpreter": {
    "hash": "40d3a090f54c6569ab1632332b64b2c03c39dcf918b08424e98f38b5ae0af88f"
   }
  }
 },
 "nbformat": 4,
 "nbformat_minor": 2
}
