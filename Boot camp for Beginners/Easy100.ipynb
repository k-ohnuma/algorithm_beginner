{
 "cells": [
  {
   "cell_type": "markdown",
   "metadata": {},
   "source": [
    "### 1-10"
   ]
  },
  {
   "cell_type": "code",
   "execution_count": null,
   "metadata": {},
   "outputs": [],
   "source": [
    "A, B = map(int, input().split())\n",
    "count = 0\n",
    "now = 1\n",
    "while now < B:\n",
    "    now -= 1\n",
    "    now += A\n",
    "    count += 1\n",
    "    \n",
    "print(count)"
   ]
  },
  {
   "cell_type": "code",
   "execution_count": null,
   "metadata": {},
   "outputs": [],
   "source": [
    "N = int(input())\n",
    "X = list(map(int, input().split()))\n",
    "ls = []\n",
    "for p in range(1, 101):\n",
    "    tmp = 0\n",
    "    for num in X:\n",
    "        tmp += (num - p) ** 2\n",
    "    ls.append(tmp)\n",
    "\n",
    "print(min(ls))"
   ]
  },
  {
   "cell_type": "code",
   "execution_count": null,
   "metadata": {},
   "outputs": [],
   "source": [
    "N, A, B = map(int, input().split())\n",
    "S = input()\n",
    "\n",
    "all = 0\n",
    "kaigai = 0\n",
    "\n",
    "for word in S:\n",
    "    if word == 'a':\n",
    "        if all < A + B:\n",
    "            print('Yes')\n",
    "            all += 1\n",
    "        else:\n",
    "            print('No')\n",
    "    elif word == 'b':\n",
    "        if all < A + B and kaigai < B:\n",
    "            print('Yes')\n",
    "            all += 1\n",
    "            kaigai += 1\n",
    "        else:\n",
    "            print('No')\n",
    "    else:\n",
    "        print('No')"
   ]
  },
  {
   "cell_type": "code",
   "execution_count": null,
   "metadata": {},
   "outputs": [],
   "source": [
    "N = int(input())\n",
    "num = N / 1.08\n",
    "num = round(num)\n",
    "if int(num * 1.08) == N:\n",
    "    print(num)\n",
    "elif int((num + 1) * 1.08) == N:\n",
    "    print(num + 1) \n",
    "elif int((num - 1) * 1.08) == N:\n",
    "    print(num - 1)\n",
    "else:\n",
    "    print(':(')"
   ]
  },
  {
   "cell_type": "code",
   "execution_count": null,
   "metadata": {},
   "outputs": [],
   "source": [
    "N, M, C = map(int, input().split())\n",
    "B = list(map(int, input().split()))\n",
    "A = [list(map(int, input().split())) for _ in range(N)]\n",
    "ans = 0\n",
    "for ls in A:\n",
    "    count = 0\n",
    "    for a, b in zip(ls, B):\n",
    "        count += a * b\n",
    "\n",
    "    if count + C > 0:\n",
    "        ans += 1\n",
    "        \n",
    "print(ans)"
   ]
  },
  {
   "cell_type": "code",
   "execution_count": null,
   "metadata": {},
   "outputs": [],
   "source": [
    "H, W = map(int, input().split())\n",
    "if H == 1 or W == 1:\n",
    "    print(1)\n",
    "else:\n",
    "    num1 = ((H + 1) // 2) * ((W + 1) // 2)\n",
    "    num2 = (H - ((H + 1) // 2)) * (W - ((W + 1) // 2))\n",
    "    print(num1 + num2)"
   ]
  },
  {
   "cell_type": "code",
   "execution_count": null,
   "metadata": {},
   "outputs": [],
   "source": [
    "A = [list(map(int, input().split())) for _ in range(3)]\n",
    "ls = [[False] * 3 for _ in range(3)]\n",
    "\n",
    "N = int(input())\n",
    "for _ in range(N):\n",
    "    b = int(input())\n",
    "    for i in range(3):\n",
    "        for j in range(3):\n",
    "            if b == A[i][j]:\n",
    "                ls[i][j] = True\n",
    "\n",
    "for i in range(3):\n",
    "    if all(ls[i]):\n",
    "        exit(print('Yes'))\n",
    "\n",
    "for j in range(3):\n",
    "    tmp = [ls[0][j], ls[1][j], ls[2][j]]\n",
    "    if all(tmp):\n",
    "        exit(print('Yes'))\n",
    "\n",
    "if ls[0][0] and ls[1][1] and ls[2][2]:\n",
    "    exit(print('Yes'))\n",
    "if ls[0][2] and ls[1][1] and ls[2][0]:\n",
    "    exit(print('Yes'))\n",
    "\n",
    "print('No')"
   ]
  },
  {
   "cell_type": "code",
   "execution_count": null,
   "metadata": {},
   "outputs": [],
   "source": [
    "a, b = input().split()\n",
    "num = int(a + b)\n",
    "if (num ** (1 / 2)).is_integer():\n",
    "    print('Yes')\n",
    "else:\n",
    "    print('No')\n"
   ]
  },
  {
   "cell_type": "code",
   "execution_count": null,
   "metadata": {},
   "outputs": [],
   "source": []
  },
  {
   "cell_type": "code",
   "execution_count": null,
   "metadata": {},
   "outputs": [],
   "source": [
    "N = int(input())\n",
    "A = list(map(int, input().split()))\n",
    "A.sort(reverse=True)\n",
    "alice = 0\n",
    "bob = 0\n",
    "for i in range(N):\n",
    "    if i % 2 == 0:\n",
    "        alice += A[i]\n",
    "    else:\n",
    "        bob += A[i]\n",
    "\n",
    "print(alice - bob)"
   ]
  },
  {
   "cell_type": "markdown",
   "metadata": {},
   "source": [
    "### 11-20"
   ]
  },
  {
   "cell_type": "code",
   "execution_count": null,
   "metadata": {},
   "outputs": [],
   "source": [
    "N = int(input())\n",
    "ls = []\n",
    "for i in range(1, N + 1):\n",
    "    now = i\n",
    "    count = 0\n",
    "    while now % 2 == 0:\n",
    "        now //= 2\n",
    "        count += 1\n",
    "    ls.append(count)\n",
    "print(ls.index(max(ls)) + 1)"
   ]
  },
  {
   "cell_type": "code",
   "execution_count": null,
   "metadata": {},
   "outputs": [],
   "source": [
    "K, N = map(int, input().split())\n",
    "A = list(map(int, input().split()))\n",
    "\n",
    "ls = []\n",
    "ls.append((K + A[0]) - A[-1])\n",
    "for i in range(N - 1):\n",
    "    ls.append(A[i + 1] - A[i])\n",
    "\n",
    "print(K - max(ls))"
   ]
  },
  {
   "cell_type": "code",
   "execution_count": null,
   "metadata": {},
   "outputs": [],
   "source": [
    "ls = list(map(int, input().split()))\n",
    "tmp = []\n",
    "count = 0\n",
    "while all(i % 2 == 0 for i in ls):\n",
    "    num1 = ls[1] // 2 + ls[2] // 2\n",
    "    num2 = ls[0] // 2 + ls[2] // 2\n",
    "    num3 = ls[0] // 2 + ls[1] // 2\n",
    "    ls = [num1, num2, num3]\n",
    "    if ls in tmp:\n",
    "        exit(print(-1))\n",
    "    tmp.append(ls)\n",
    "    count += 1\n",
    "    # print(ls)\n",
    "    \n",
    "print(count)"
   ]
  },
  {
   "cell_type": "code",
   "execution_count": null,
   "metadata": {},
   "outputs": [],
   "source": [
    "N, K = map(int, input().split())\n",
    "num1 = N % K\n",
    "num2 = abs(num1 - K)\n",
    "print(min(num1, num2))"
   ]
  },
  {
   "cell_type": "code",
   "execution_count": null,
   "metadata": {},
   "outputs": [],
   "source": [
    "N = int(input())\n",
    "D = list(map(int, input().split()))\n",
    "D.sort()\n",
    "print(D[N // 2] - D[N // 2 - 1])"
   ]
  },
  {
   "cell_type": "code",
   "execution_count": null,
   "metadata": {},
   "outputs": [],
   "source": [
    "N = int(input())\n",
    "A = list(map(int, input().split()))\n",
    "\n",
    "ls = [-1] * (N)\n",
    "for i in range(1, N + 1):\n",
    "    ls[A[i - 1] - 1] = i\n",
    "\n",
    "print(*ls)\n",
    "    "
   ]
  },
  {
   "cell_type": "code",
   "execution_count": null,
   "metadata": {},
   "outputs": [],
   "source": [
    "N = int(input())\n",
    "v = list(map(int, input().split()))\n",
    "v.sort()\n",
    "\n",
    "ans = v[0]\n",
    "for i in range(1, N):\n",
    "    ans = (ans + v[i]) / 2\n",
    "print(ans)"
   ]
  },
  {
   "cell_type": "code",
   "execution_count": null,
   "metadata": {},
   "outputs": [],
   "source": [
    "S = list(input())\n",
    "\n",
    "flg = False\n",
    "ls = ['A', 'T', 'G', 'C']\n",
    "ans = 0\n",
    "a = []\n",
    "for word in S:\n",
    "    if not flg and word in ls:\n",
    "        flg = True\n",
    "        ans += 1\n",
    "    elif flg and word not in ls:\n",
    "        flg = False\n",
    "        a.append(ans)\n",
    "        ans = 0\n",
    "    elif flg:\n",
    "        ans += 1\n",
    "        \n",
    "if flg:\n",
    "    flg = False\n",
    "    a.append(ans)\n",
    "\n",
    "if a:\n",
    "    print(max(a))\n",
    "else:\n",
    "    print(0)"
   ]
  },
  {
   "cell_type": "code",
   "execution_count": null,
   "metadata": {},
   "outputs": [],
   "source": [
    "N, M, X = map(int, input().split())\n",
    "A = list(map(int, input().split()))\n",
    "flg = [False] * (N + 1)\n",
    "for num in A:\n",
    "    flg[num] = True\n",
    "left = 0\n",
    "right = 0\n",
    "for i in range(N + 1):\n",
    "    if i <= X and flg[i]:\n",
    "        left += 1\n",
    "    elif i > X and flg[i]:\n",
    "        right += 1\n",
    "        \n",
    "print(min(left, right))\n",
    "        "
   ]
  },
  {
   "cell_type": "code",
   "execution_count": null,
   "metadata": {},
   "outputs": [],
   "source": [
    "def f(n):\n",
    "    if n % 2 == 0:\n",
    "        return n // 2\n",
    "    else:\n",
    "        return 3 * n + 1\n",
    "    \n",
    "s = int(input())\n",
    "ans = 0\n",
    "ls = []\n",
    "while True:\n",
    "    # print(s)\n",
    "    \n",
    "    ls.append(s)\n",
    "    s = f(s)\n",
    "    ans += 1\n",
    "    if s in ls:\n",
    "        break\n",
    "    \n",
    "print(ans + 1)"
   ]
  },
  {
   "cell_type": "markdown",
   "metadata": {},
   "source": [
    "### 21-30"
   ]
  },
  {
   "cell_type": "code",
   "execution_count": null,
   "metadata": {},
   "outputs": [],
   "source": []
  },
  {
   "cell_type": "code",
   "execution_count": null,
   "metadata": {},
   "outputs": [],
   "source": []
  },
  {
   "cell_type": "code",
   "execution_count": null,
   "metadata": {},
   "outputs": [],
   "source": []
  },
  {
   "cell_type": "code",
   "execution_count": null,
   "metadata": {},
   "outputs": [],
   "source": []
  },
  {
   "cell_type": "code",
   "execution_count": null,
   "metadata": {},
   "outputs": [],
   "source": []
  },
  {
   "cell_type": "code",
   "execution_count": null,
   "metadata": {},
   "outputs": [],
   "source": []
  },
  {
   "cell_type": "code",
   "execution_count": null,
   "metadata": {},
   "outputs": [],
   "source": []
  },
  {
   "cell_type": "code",
   "execution_count": null,
   "metadata": {},
   "outputs": [],
   "source": []
  },
  {
   "cell_type": "code",
   "execution_count": null,
   "metadata": {},
   "outputs": [],
   "source": []
  },
  {
   "cell_type": "code",
   "execution_count": null,
   "metadata": {},
   "outputs": [],
   "source": []
  },
  {
   "cell_type": "code",
   "execution_count": null,
   "metadata": {},
   "outputs": [],
   "source": []
  },
  {
   "cell_type": "code",
   "execution_count": null,
   "metadata": {},
   "outputs": [],
   "source": []
  },
  {
   "cell_type": "code",
   "execution_count": null,
   "metadata": {},
   "outputs": [],
   "source": []
  },
  {
   "cell_type": "code",
   "execution_count": null,
   "metadata": {},
   "outputs": [],
   "source": []
  },
  {
   "cell_type": "code",
   "execution_count": null,
   "metadata": {},
   "outputs": [],
   "source": []
  },
  {
   "cell_type": "code",
   "execution_count": null,
   "metadata": {},
   "outputs": [],
   "source": []
  },
  {
   "cell_type": "code",
   "execution_count": null,
   "metadata": {},
   "outputs": [],
   "source": []
  },
  {
   "cell_type": "code",
   "execution_count": null,
   "metadata": {},
   "outputs": [],
   "source": []
  },
  {
   "cell_type": "code",
   "execution_count": null,
   "metadata": {},
   "outputs": [],
   "source": []
  },
  {
   "cell_type": "code",
   "execution_count": null,
   "metadata": {},
   "outputs": [],
   "source": []
  },
  {
   "cell_type": "code",
   "execution_count": null,
   "metadata": {},
   "outputs": [],
   "source": []
  },
  {
   "cell_type": "code",
   "execution_count": null,
   "metadata": {},
   "outputs": [],
   "source": []
  },
  {
   "cell_type": "code",
   "execution_count": null,
   "metadata": {},
   "outputs": [],
   "source": []
  },
  {
   "cell_type": "code",
   "execution_count": null,
   "metadata": {},
   "outputs": [],
   "source": []
  },
  {
   "cell_type": "code",
   "execution_count": null,
   "metadata": {},
   "outputs": [],
   "source": []
  },
  {
   "cell_type": "code",
   "execution_count": null,
   "metadata": {},
   "outputs": [],
   "source": []
  },
  {
   "cell_type": "code",
   "execution_count": null,
   "metadata": {},
   "outputs": [],
   "source": []
  },
  {
   "cell_type": "code",
   "execution_count": null,
   "metadata": {},
   "outputs": [],
   "source": []
  },
  {
   "cell_type": "code",
   "execution_count": null,
   "metadata": {},
   "outputs": [],
   "source": []
  },
  {
   "cell_type": "code",
   "execution_count": null,
   "metadata": {},
   "outputs": [],
   "source": []
  },
  {
   "cell_type": "code",
   "execution_count": null,
   "metadata": {},
   "outputs": [],
   "source": []
  },
  {
   "cell_type": "code",
   "execution_count": null,
   "metadata": {},
   "outputs": [],
   "source": []
  },
  {
   "cell_type": "code",
   "execution_count": null,
   "metadata": {},
   "outputs": [],
   "source": []
  },
  {
   "cell_type": "code",
   "execution_count": null,
   "metadata": {},
   "outputs": [],
   "source": []
  },
  {
   "cell_type": "code",
   "execution_count": null,
   "metadata": {},
   "outputs": [],
   "source": []
  },
  {
   "cell_type": "code",
   "execution_count": null,
   "metadata": {},
   "outputs": [],
   "source": []
  },
  {
   "cell_type": "code",
   "execution_count": null,
   "metadata": {},
   "outputs": [],
   "source": []
  },
  {
   "cell_type": "code",
   "execution_count": null,
   "metadata": {},
   "outputs": [],
   "source": []
  },
  {
   "cell_type": "code",
   "execution_count": null,
   "metadata": {},
   "outputs": [],
   "source": []
  },
  {
   "cell_type": "code",
   "execution_count": null,
   "metadata": {},
   "outputs": [],
   "source": []
  },
  {
   "cell_type": "code",
   "execution_count": null,
   "metadata": {},
   "outputs": [],
   "source": []
  },
  {
   "cell_type": "code",
   "execution_count": null,
   "metadata": {},
   "outputs": [],
   "source": []
  },
  {
   "cell_type": "code",
   "execution_count": null,
   "metadata": {},
   "outputs": [],
   "source": []
  },
  {
   "cell_type": "code",
   "execution_count": null,
   "metadata": {},
   "outputs": [],
   "source": []
  },
  {
   "cell_type": "code",
   "execution_count": null,
   "metadata": {},
   "outputs": [],
   "source": []
  },
  {
   "cell_type": "code",
   "execution_count": null,
   "metadata": {},
   "outputs": [],
   "source": []
  },
  {
   "cell_type": "code",
   "execution_count": null,
   "metadata": {},
   "outputs": [],
   "source": []
  },
  {
   "cell_type": "code",
   "execution_count": null,
   "metadata": {},
   "outputs": [],
   "source": []
  },
  {
   "cell_type": "code",
   "execution_count": null,
   "metadata": {},
   "outputs": [],
   "source": []
  },
  {
   "cell_type": "code",
   "execution_count": null,
   "metadata": {},
   "outputs": [],
   "source": []
  },
  {
   "cell_type": "code",
   "execution_count": null,
   "metadata": {},
   "outputs": [],
   "source": []
  },
  {
   "cell_type": "code",
   "execution_count": null,
   "metadata": {},
   "outputs": [],
   "source": []
  },
  {
   "cell_type": "code",
   "execution_count": null,
   "metadata": {},
   "outputs": [],
   "source": []
  },
  {
   "cell_type": "code",
   "execution_count": null,
   "metadata": {},
   "outputs": [],
   "source": []
  },
  {
   "cell_type": "code",
   "execution_count": null,
   "metadata": {},
   "outputs": [],
   "source": []
  },
  {
   "cell_type": "code",
   "execution_count": null,
   "metadata": {},
   "outputs": [],
   "source": []
  },
  {
   "cell_type": "code",
   "execution_count": null,
   "metadata": {},
   "outputs": [],
   "source": []
  },
  {
   "cell_type": "code",
   "execution_count": null,
   "metadata": {},
   "outputs": [],
   "source": []
  },
  {
   "cell_type": "code",
   "execution_count": null,
   "metadata": {},
   "outputs": [],
   "source": []
  },
  {
   "cell_type": "code",
   "execution_count": null,
   "metadata": {},
   "outputs": [],
   "source": []
  },
  {
   "cell_type": "code",
   "execution_count": null,
   "metadata": {},
   "outputs": [],
   "source": []
  },
  {
   "cell_type": "code",
   "execution_count": null,
   "metadata": {},
   "outputs": [],
   "source": []
  },
  {
   "cell_type": "code",
   "execution_count": null,
   "metadata": {},
   "outputs": [],
   "source": []
  },
  {
   "cell_type": "code",
   "execution_count": null,
   "metadata": {},
   "outputs": [],
   "source": []
  },
  {
   "cell_type": "code",
   "execution_count": null,
   "metadata": {},
   "outputs": [],
   "source": []
  },
  {
   "cell_type": "code",
   "execution_count": null,
   "metadata": {},
   "outputs": [],
   "source": []
  },
  {
   "cell_type": "code",
   "execution_count": null,
   "metadata": {},
   "outputs": [],
   "source": []
  },
  {
   "cell_type": "code",
   "execution_count": null,
   "metadata": {},
   "outputs": [],
   "source": []
  },
  {
   "cell_type": "code",
   "execution_count": null,
   "metadata": {},
   "outputs": [],
   "source": []
  },
  {
   "cell_type": "code",
   "execution_count": null,
   "metadata": {},
   "outputs": [],
   "source": []
  },
  {
   "cell_type": "code",
   "execution_count": null,
   "metadata": {},
   "outputs": [],
   "source": []
  },
  {
   "cell_type": "code",
   "execution_count": null,
   "metadata": {},
   "outputs": [],
   "source": []
  },
  {
   "cell_type": "code",
   "execution_count": null,
   "metadata": {},
   "outputs": [],
   "source": []
  },
  {
   "cell_type": "code",
   "execution_count": null,
   "metadata": {},
   "outputs": [],
   "source": []
  }
 ],
 "metadata": {
  "kernelspec": {
   "display_name": "base",
   "language": "python",
   "name": "python3"
  },
  "language_info": {
   "name": "python",
   "version": "3.9.13"
  },
  "orig_nbformat": 4,
  "vscode": {
   "interpreter": {
    "hash": "40d3a090f54c6569ab1632332b64b2c03c39dcf918b08424e98f38b5ae0af88f"
   }
  }
 },
 "nbformat": 4,
 "nbformat_minor": 2
}
