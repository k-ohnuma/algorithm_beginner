{
 "cells": [
  {
   "cell_type": "code",
   "execution_count": null,
   "metadata": {},
   "outputs": [],
   "source": [
    "N = int(input())\n",
    "A = [int(input()) for _ in range(N)]\n",
    "now = 1\n",
    "cnt = 0\n",
    "while now != 2 and cnt != N:\n",
    "    # print(now)\n",
    "    now = A[now - 1]\n",
    "    cnt += 1\n",
    " \n",
    "if now == 2:\n",
    "    print(cnt)\n",
    "else:\n",
    "    print(-1)"
   ]
  },
  {
   "cell_type": "code",
   "execution_count": null,
   "metadata": {},
   "outputs": [],
   "source": [
    "S = input()\n",
    "ls = []\n",
    "for i in range(len(S)):\n",
    "    if S[i] == 'W':\n",
    "        ls.append(i)\n",
    "now = 0\n",
    "ans = 0\n",
    "for idx in ls:\n",
    "    ans += (idx - now)\n",
    "    now += 1\n",
    "print(ans)"
   ]
  },
  {
   "cell_type": "code",
   "execution_count": null,
   "metadata": {},
   "outputs": [],
   "source": []
  },
  {
   "cell_type": "code",
   "execution_count": null,
   "metadata": {},
   "outputs": [],
   "source": [
    "from collections import defaultdict\n",
    "def ok(S):\n",
    "    n = len(S)\n",
    "    if S[:(n // 2)] == S[(n // 2):]:\n",
    "        return True\n",
    "    return False\n",
    "S = list(input())\n",
    "# ok(S)\n",
    "count = 0\n",
    "while True:\n",
    "    d = defaultdict(int)\n",
    "    for word in S:\n",
    "        d[word] += 1\n",
    "    # print(d)\n",
    "    flg = True\n",
    "    # for v in d.values():\n",
    "    #     if v % 2 == 1:\n",
    "    #         flg = False\n",
    "    #         break\n",
    "    # if flg and count != 0:\n",
    "    if ok(S) and count != 0:\n",
    "        exit(print(len(S)))\n",
    "    else:\n",
    "        S = S[:-1]\n",
    "        count += 1\n",
    "    \n",
    "\n"
   ]
  },
  {
   "cell_type": "code",
   "execution_count": null,
   "metadata": {},
   "outputs": [],
   "source": [
    "N = int(input())\n",
    "print(((N * (N - 1)) // 2))"
   ]
  },
  {
   "cell_type": "code",
   "execution_count": null,
   "metadata": {},
   "outputs": [],
   "source": [
    "H, W = map(int, input().split())\n",
    "S = [list(input()) for _ in range(H)]\n",
    "\n",
    "dxs = [0, 0, 0, 1, 1, 1, -1, -1, -1]\n",
    "dys = [0, 1, -1, 0, 1, -1, 0, 1, -1]\n",
    "\n",
    "ans = [[0] * W for _ in range(H)]\n",
    "\n",
    "for i in range(H):\n",
    "    for j in range(W):\n",
    "        if S[i][j] == '#':\n",
    "            ans[i][j] = '#'\n",
    "            continue\n",
    "        for dx, dy in zip(dxs, dys):\n",
    "            x = i + dx\n",
    "            y = j + dy\n",
    "            if x < 0 or x >= H or y < 0 or y >= W:\n",
    "                continue\n",
    "            if S[x][y] == '#':\n",
    "                ans[i][j] += 1\n",
    "        \n",
    "for i in range(H):\n",
    "    ans[i] = list(map(str, ans[i]))\n",
    "    print(''.join(ans[i]))\n",
    "\n"
   ]
  },
  {
   "cell_type": "code",
   "execution_count": null,
   "metadata": {},
   "outputs": [],
   "source": [
    "N = int(input())\n",
    "S = list(input())\n",
    "ls = []\n",
    "for i in range(1, N):\n",
    "    left = S[:i]\n",
    "    right = S[i:]\n",
    "    left = set(left)\n",
    "    right = set(right)\n",
    "    # print(left, right)\n",
    "    # print(left & right)\n",
    "    tmp = list(left & right)\n",
    "    ls.append(len(tmp))\n",
    "    # ls.append(len(left % right))\n",
    "\n",
    "print(max(ls))"
   ]
  },
  {
   "cell_type": "code",
   "execution_count": null,
   "metadata": {},
   "outputs": [],
   "source": [
    "N = int(input())\n",
    "A = list(map(int, input().split()))\n",
    "s = set()\n",
    "anycolor = 0\n",
    "\n",
    "for num in A:\n",
    "    if 1 <= num <= 399:\n",
    "        s.add('hai')\n",
    "    elif num <= 799:\n",
    "        s.add('cha')\n",
    "    elif num <= 1199:\n",
    "        s.add('midori')\n",
    "    elif num <= 1599:\n",
    "        s.add('mizu')\n",
    "    elif num <= 1999:\n",
    "        s.add('ao')\n",
    "    elif num <= 2399:\n",
    "        s.add('ki')\n",
    "    elif num <= 2799:\n",
    "        s.add('dai')\n",
    "    elif num <= 3199:\n",
    "        s.add('aka')\n",
    "    else:\n",
    "        anycolor += 1\n",
    "s = list(s)\n",
    "ans1 = max(1, len(s))\n",
    "\n",
    "v = len(s) + anycolor\n",
    "ans2 = min(8, v)\n",
    "\n",
    "print(ans1, v)"
   ]
  },
  {
   "cell_type": "code",
   "execution_count": null,
   "metadata": {},
   "outputs": [],
   "source": [
    "from collections import defaultdict\n",
    "\n",
    "N = int(input())\n",
    "A = list(map(int, input().split()))\n",
    "d = defaultdict(int)\n",
    "\n",
    "for num in A:\n",
    "    d[num] += 1\n",
    "    d[num - 1] += 1\n",
    "    d[num + 1] += 1\n",
    "    \n",
    "print(max(d.values()))"
   ]
  },
  {
   "cell_type": "code",
   "execution_count": null,
   "metadata": {},
   "outputs": [],
   "source": []
  },
  {
   "cell_type": "code",
   "execution_count": null,
   "metadata": {},
   "outputs": [],
   "source": []
  },
  {
   "cell_type": "code",
   "execution_count": null,
   "metadata": {},
   "outputs": [],
   "source": []
  },
  {
   "cell_type": "code",
   "execution_count": null,
   "metadata": {},
   "outputs": [],
   "source": []
  },
  {
   "cell_type": "code",
   "execution_count": null,
   "metadata": {},
   "outputs": [],
   "source": []
  }
 ],
 "metadata": {
  "kernelspec": {
   "display_name": "base",
   "language": "python",
   "name": "python3"
  },
  "language_info": {
   "name": "python",
   "version": "3.9.13"
  },
  "orig_nbformat": 4,
  "vscode": {
   "interpreter": {
    "hash": "40d3a090f54c6569ab1632332b64b2c03c39dcf918b08424e98f38b5ae0af88f"
   }
  }
 },
 "nbformat": 4,
 "nbformat_minor": 2
}
