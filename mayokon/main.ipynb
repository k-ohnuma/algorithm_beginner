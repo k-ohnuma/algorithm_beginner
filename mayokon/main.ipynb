{
 "cells": [
  {
   "cell_type": "markdown",
   "metadata": {},
   "source": [
    "### 02/14"
   ]
  },
  {
   "cell_type": "code",
   "execution_count": null,
   "metadata": {},
   "outputs": [],
   "source": [
    "T = int(input())\n",
    "for _ in range(T):\n",
    "    N = int(input())\n",
    "    A = list(map(int, input().split()))\n",
    "    count = 0\n",
    "    for num in A:\n",
    "        if num % 2 == 1:\n",
    "            count += 1\n",
    "            \n",
    "    print(count)"
   ]
  },
  {
   "cell_type": "code",
   "execution_count": null,
   "metadata": {},
   "outputs": [],
   "source": [
    "N, M = map(int, input().split())\n",
    "B = [list(map(int, input().split())) for _ in range(N)]\n",
    "tmp = B[0][0]\n",
    "num = tmp % 7\n",
    " \n",
    "# print(list(range(tmp, tmp + M)))\n",
    "for i in range(N):\n",
    "    ls = list(range(tmp, tmp + M))\n",
    "    flg = False\n",
    "    hoge = -1\n",
    "    for num in ls:\n",
    "        if num % 7 == 0:\n",
    "            flg = True\n",
    "            hoge = num\n",
    "        if flg and num > hoge:\n",
    "            exit(print('No'))\n",
    "        \n",
    "    if B[i] != list(range(tmp, tmp + M)):\n",
    "        # print(B[i])\n",
    "        exit(print('No'))\n",
    "    tmp += 7\n",
    "B = list(map(list, zip(*B)))\n",
    "tmp = B[0][0]\n",
    "# print(list(range(tmp, tmp + last, 7)))\n",
    "# print(B)\n",
    "for j in range(M):\n",
    "    if B[j] != list(range(tmp, tmp + 7 * N, 7)):\n",
    "        # print(B[j], list(range(tmp, tmp + 7 * N, 7)))\n",
    "        exit(print('No'))\n",
    "    tmp += 1\n",
    "print('Yes')"
   ]
  },
  {
   "cell_type": "code",
   "execution_count": null,
   "metadata": {},
   "outputs": [],
   "source": [
    "A, B, C = map(int, input().split())\n",
    "amari = []\n",
    "now = A\n",
    "while True:\n",
    "    num = now % B\n",
    "    if num in amari:\n",
    "        exit(print('NO'))\n",
    "    if num == C:\n",
    "        exit(print('YES'))\n",
    "    now += A\n",
    "    amari.append(num)"
   ]
  },
  {
   "cell_type": "code",
   "execution_count": null,
   "metadata": {},
   "outputs": [],
   "source": [
    "from itertools import product\n",
    " \n",
    "N = int(input())\n",
    "F = [list(map(int, input().split())) for _ in range(N)]\n",
    "P = [list(map(int, input().split())) for _ in range(N)]\n",
    " \n",
    "ls = list(product([1, 0], repeat=10))\n",
    "count_ls = [[] for _ in range(len(ls))]\n",
    "hoge = False\n",
    "for idx, tmp in enumerate(ls):\n",
    "    if list(tmp) == [0] * len(tmp):\n",
    "        hoge = True\n",
    "        continue\n",
    "    for i in range(N):\n",
    "        count = 0\n",
    "        for flg1, flg2 in zip(tmp, F[i]):\n",
    "            if flg1 == 1 and flg2 == 1:\n",
    "                count += 1\n",
    "        count_ls[idx].append(count)\n",
    " \n",
    "count_ls = count_ls[:-1]\n",
    "ans = []\n",
    "for count in count_ls:\n",
    "    kotae = 0\n",
    "    now = 0\n",
    "    for i in range(len(count)):\n",
    "        kotae += P[now][count[i]]\n",
    "        now += 1\n",
    "    ans.append(kotae)\n",
    "# print(ans)\n",
    "print(max(ans))"
   ]
  },
  {
   "cell_type": "markdown",
   "metadata": {},
   "source": [
    "### 02/15"
   ]
  },
  {
   "cell_type": "code",
   "execution_count": null,
   "metadata": {},
   "outputs": [],
   "source": [
    "N = int(input())\n",
    "A = list(map(int, input().split()))\n",
    "for num in A:\n",
    "    if num % 2 == 0:\n",
    "        if num % 3 != 0 and num % 5 != 0:\n",
    "            exit(print('DENIED'))\n",
    " \n",
    "print('APPROVED')"
   ]
  },
  {
   "cell_type": "code",
   "execution_count": null,
   "metadata": {},
   "outputs": [],
   "source": [
    "from itertools import combinations\n",
    "def func(a, b):\n",
    "    return ((a[0] - b[0]) ** 2 + (a[1] - b[1]) ** 2) ** (1 / 2)\n",
    "    \n",
    "N = int(input())\n",
    "ls = []\n",
    "for _ in range(N):\n",
    "    x, y = map(int, input().split())\n",
    "    ls.append([x, y])\n",
    " \n",
    "for comb in list(combinations(ls, r=3)):\n",
    "    comb1 = list(comb)\n",
    "    comb1.sort()\n",
    "    a, b, c = comb1\n",
    "    dx1 = b[0] - a[0]\n",
    "    dx2 = c[0] - a[0]\n",
    "    dy1 = b[1] - a[1]\n",
    "    dy2 = c[1] - a[1]\n",
    "    if dx2 * dy1 == dx1 * dy2:\n",
    "        exit(print('Yes'))\n",
    " \n",
    "    # dx1 = \n",
    "    # if b[0] * c[1] == c[0] * b[1]:\n",
    "    #     exit(print('Yes'))\n",
    "print('No')"
   ]
  },
  {
   "cell_type": "code",
   "execution_count": null,
   "metadata": {},
   "outputs": [],
   "source": []
  },
  {
   "cell_type": "code",
   "execution_count": null,
   "metadata": {},
   "outputs": [],
   "source": [
    "from collections import defaultdict, deque\n",
    "# import sys, resource\n",
    "# sys.setrecursionlimit(10 ** 7)\n",
    "# resource.setrlimit(resource.RLIMIT_STACK, (-1, -1))\n",
    "        \n",
    "N, X, Y = map(int, input().split())\n",
    "X -= 1\n",
    "Y -= 1\n",
    "G = defaultdict(list)\n",
    "for i in range(N - 1):\n",
    "    G[i].append(i + 1)\n",
    "    G[i + 1].append(i)\n",
    " \n",
    "G[X].append(Y)\n",
    "G[Y].append(X)\n",
    " \n",
    "dic = defaultdict(int)\n",
    " \n",
    "for i in range(N):\n",
    "    seen = set([i])\n",
    "    que = deque([])\n",
    "    que.append((i, 0))\n",
    "    while len(que) > 0:\n",
    "        v, d = que.popleft()\n",
    "        for v2 in G[v]:\n",
    "            if v2 not in seen:\n",
    "                seen.add(v2)\n",
    "                que.append((v2, d + 1))\n",
    "                dic[d + 1] += 1\n",
    "                \n",
    "for i in range(1, N):\n",
    "    print(dic[i] // 2)"
   ]
  },
  {
   "cell_type": "markdown",
   "metadata": {},
   "source": [
    "### 02/16"
   ]
  },
  {
   "cell_type": "code",
   "execution_count": null,
   "metadata": {},
   "outputs": [],
   "source": [
    "N = int(input())\n",
    "K = int(input())\n",
    "X = int(input())\n",
    "Y = int(input())\n",
    " \n",
    "if N <= K:\n",
    "    print(N * X)\n",
    "else:\n",
    "    print(K * X + (N - K) * Y)"
   ]
  },
  {
   "cell_type": "code",
   "execution_count": null,
   "metadata": {},
   "outputs": [],
   "source": [
    "O = list(input())\n",
    "E = list(input())\n",
    " \n",
    "ans = []\n",
    "for i in range(len(E)):\n",
    "    ans.append(O[i])\n",
    "    ans.append(E[i])\n",
    " \n",
    "if len(O) > len(E):\n",
    "    ans.append(O[-1])\n",
    " \n",
    "print(''.join(ans))"
   ]
  },
  {
   "cell_type": "code",
   "execution_count": null,
   "metadata": {},
   "outputs": [],
   "source": [
    "def f(word, K):\n",
    "    num = int(word)\n",
    "    return num ** K\n",
    " \n",
    "S = input()\n",
    "K = int(input())\n",
    "tmp = 10 ** 6\n",
    "count = 0\n",
    "for word in S:\n",
    "    count += f(word, tmp)\n",
    "    if count >= K:\n",
    "        exit(print(word))"
   ]
  },
  {
   "cell_type": "code",
   "execution_count": null,
   "metadata": {},
   "outputs": [],
   "source": [
    "from collections import Counter\n",
    "from itertools import accumulate\n",
    "import operator\n",
    " \n",
    "N = int(input())\n",
    "A = list(map(int, input().split()))\n",
    "C = Counter(A)\n",
    "C = list(C.values())\n",
    "# print(C)\n",
    "ac_sum = C\n",
    "ac_sum = list(accumulate(ac_sum))\n",
    "ac_pro = []\n",
    "for num in C:\n",
    "    ac_pro.append(num ** 2)\n",
    "ac_pro = list(accumulate(ac_pro))\n",
    "ans = 0\n",
    "for i in range(1, len(C)):\n",
    "    ans += C[i] * ((ac_sum[i - 1]) ** 2 - ac_pro[i - 1]) // 2\n",
    "print(ans)"
   ]
  },
  {
   "cell_type": "markdown",
   "metadata": {},
   "source": [
    "### 2023/02/17"
   ]
  },
  {
   "cell_type": "code",
   "execution_count": null,
   "metadata": {},
   "outputs": [],
   "source": [
    "N, K = map(int, input().split())\n",
    "A = list(map(int, input().split()))\n",
    "B = list(map(int, input().split()))\n",
    " \n",
    "idx = []\n",
    "m = max(A)\n",
    "for i in range(N):\n",
    "    if A[i] == m:\n",
    "        idx.append(i + 1)\n",
    " \n",
    "for i in idx:\n",
    "    if i in B:\n",
    "        exit(print('Yes'))\n",
    "print('No')"
   ]
  },
  {
   "cell_type": "code",
   "execution_count": null,
   "metadata": {},
   "outputs": [],
   "source": [
    "N = int(input())\n",
    "S = [input() for _ in range(N)]\n",
    " \n",
    "from collections import defaultdict\n",
    " \n",
    "d = defaultdict(int)\n",
    "for word in S:\n",
    "    if word[0] == '!':\n",
    "        d[word[1:]] += 1\n",
    " \n",
    "for word in S:\n",
    "    if word[0] != '!':\n",
    "        if d[word] >= 1:\n",
    "            exit(print(word))\n",
    " \n",
    "print('satisfiable')"
   ]
  },
  {
   "cell_type": "code",
   "execution_count": null,
   "metadata": {},
   "outputs": [],
   "source": [
    "N = int(input())\n",
    "A = list(map(int, input().split()))\n",
    " \n",
    "ans = A[0]\n",
    "for i in range(1, N):\n",
    "    ans = ans ^ A[i]\n",
    " \n",
    "ls = []\n",
    "for i in range(N):\n",
    "    num = A[i] ^ ans\n",
    "    ls.append(num)\n",
    " \n",
    "print(*ls)"
   ]
  },
  {
   "cell_type": "code",
   "execution_count": null,
   "metadata": {},
   "outputs": [],
   "source": [
    "def combination(n, r, mod):\n",
    "    if r > n:\n",
    "        return 0\n",
    "    r = min(r, n - r)\n",
    "    res = 1\n",
    "    for i in range(r):\n",
    "        res = res * (n - i) % mod\n",
    "        res = res * pow(i + 1, mod - 2, mod) % mod\n",
    "    return res\n",
    " \n",
    "X, Y = map(int, input().split())\n",
    "if (X + Y) % 3 != 0 :\n",
    "    exit(print(0))\n",
    " \n",
    "tmp = (X + Y) // 3\n",
    "mod = 10 ** 9 + 7\n",
    "num1 = Y - tmp\n",
    "num2 = X - tmp\n",
    "if num1 < 0 or num2 < 0:\n",
    "    exit(print(0))\n",
    "print(combination((num1 + num2), num1, mod))"
   ]
  }
 ],
 "metadata": {
  "kernelspec": {
   "display_name": "base",
   "language": "python",
   "name": "python3"
  },
  "language_info": {
   "name": "python",
   "version": "3.9.13"
  },
  "orig_nbformat": 4,
  "vscode": {
   "interpreter": {
    "hash": "40d3a090f54c6569ab1632332b64b2c03c39dcf918b08424e98f38b5ae0af88f"
   }
  }
 },
 "nbformat": 4,
 "nbformat_minor": 2
}
