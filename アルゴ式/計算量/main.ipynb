{
 "cells": [
  {
   "cell_type": "markdown",
   "metadata": {},
   "source": [
    "### for文のループを減らす"
   ]
  },
  {
   "cell_type": "code",
   "execution_count": null,
   "metadata": {},
   "outputs": [],
   "source": [
    "N = int(input())\n",
    "A = list(map(int, input().split()))\n",
    "\n",
    "print(max(A) - min(A))"
   ]
  },
  {
   "cell_type": "code",
   "execution_count": null,
   "metadata": {},
   "outputs": [],
   "source": [
    "N = int(input())\n",
    "A = list(map(int, input().split()))\n",
    "\n",
    "print(sum(A) - min(A))"
   ]
  },
  {
   "cell_type": "code",
   "execution_count": null,
   "metadata": {},
   "outputs": [],
   "source": [
    "N, M = map(int, input().split())\n",
    "ans = 0\n",
    "for x in range(1, N + 1):\n",
    "    for y in range(1, N + 1):\n",
    "        z = min(N, M - x - y)\n",
    "        if z <= 0:\n",
    "            continue\n",
    "        ans += z\n",
    "print(ans)"
   ]
  },
  {
   "cell_type": "code",
   "execution_count": null,
   "metadata": {},
   "outputs": [],
   "source": [
    "N = int(input())\n",
    "A = list(map(int, input().split()))\n",
    "print(sum(A) ** 2)"
   ]
  },
  {
   "cell_type": "code",
   "execution_count": null,
   "metadata": {},
   "outputs": [],
   "source": [
    "N = int(input())\n",
    "A = list(map(int, input().split()))\n",
    "sumA = sum(A)\n",
    "dou = 0\n",
    "for num in A:\n",
    "    dou += num ** 2\n",
    "print((sumA ** 2 - dou) // 2)"
   ]
  },
  {
   "cell_type": "markdown",
   "metadata": {},
   "source": [
    "### 累積和"
   ]
  },
  {
   "cell_type": "code",
   "execution_count": null,
   "metadata": {},
   "outputs": [],
   "source": [
    "from itertools import accumulate\n",
    "\n",
    "N = int(input())\n",
    "A = list(map(int, input().split()))\n",
    "ac = [0] + list(accumulate(A))\n",
    "Q = int(input())\n",
    "print(ac)\n",
    "for _ in range(Q):\n",
    "    k = int(input())\n",
    "    print(ac[k])"
   ]
  },
  {
   "cell_type": "code",
   "execution_count": null,
   "metadata": {},
   "outputs": [],
   "source": [
    "from itertools import accumulate\n",
    "N = int(input())\n",
    "A = list(map(int, input().split()))\n",
    "ac = [0] + list(accumulate(A))\n",
    "\n",
    "Q = int(input())\n",
    "for _ in range(Q):\n",
    "    a, b = map(int, input().split())\n",
    "    print(ac[b] - ac[a])"
   ]
  },
  {
   "cell_type": "code",
   "execution_count": null,
   "metadata": {},
   "outputs": [],
   "source": [
    "from itertools import accumulate\n",
    "\n",
    "N = int(input())\n",
    "d = list(map(int, input().split()))\n",
    "ac = [0] + list(accumulate(d))\n",
    "Q = int(input())\n",
    "for _ in range(Q):\n",
    "    l, r = map(int, input().split())\n",
    "    print(ac[r] - ac[l])"
   ]
  },
  {
   "cell_type": "code",
   "execution_count": null,
   "metadata": {},
   "outputs": [],
   "source": [
    "from itertools import accumulate\n",
    "\n",
    "N, D = map(int, input().split())\n",
    "X = list(map(int, input().split()))\n",
    "ac = [0] + list(accumulate(X))\n",
    "ls = []\n",
    "for i in range(N - D + 1):\n",
    "    v = ac[i + D] - ac[i]\n",
    "    ls.append(v)\n",
    "\n",
    "idx = -1\n",
    "tmp = max(ls)\n",
    "for i, num in enumerate(ls):\n",
    "    if num == tmp:\n",
    "        idx = i\n",
    "\n",
    "print(f'{idx}~{idx+D-1}')"
   ]
  },
  {
   "cell_type": "code",
   "execution_count": null,
   "metadata": {},
   "outputs": [],
   "source": [
    "from itertools import accumulate\n",
    "\n",
    "N = int(input())\n",
    "L = list(map(int, input().split()))\n",
    "ls = [0] * (10 ** 5 + 1)\n",
    "for num in L:\n",
    "    ls[num] += 1\n",
    "    \n",
    "ls = list(accumulate(ls))\n",
    "    \n",
    "Q = int(input())\n",
    "for _ in range(Q):\n",
    "    a, b = map(int, input().split())\n",
    "    print(ls[b] - ls[a - 1])"
   ]
  }
 ],
 "metadata": {
  "kernelspec": {
   "display_name": "base",
   "language": "python",
   "name": "python3"
  },
  "language_info": {
   "name": "python",
   "version": "3.9.13"
  },
  "orig_nbformat": 4,
  "vscode": {
   "interpreter": {
    "hash": "40d3a090f54c6569ab1632332b64b2c03c39dcf918b08424e98f38b5ae0af88f"
   }
  }
 },
 "nbformat": 4,
 "nbformat_minor": 2
}
