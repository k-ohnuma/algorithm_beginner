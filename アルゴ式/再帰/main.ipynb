{
 "cells": [
  {
   "cell_type": "code",
   "execution_count": null,
   "metadata": {},
   "outputs": [],
   "source": [
    "import sys\n",
    "sys.setrecursionlimit(10 ** 5)\n",
    "\n",
    "def func(N):\n",
    "    if N == 0:\n",
    "        return 0\n",
    "    return N + func(N - 1)\n",
    "\n",
    "N = int(input())\n",
    "print(func(N))"
   ]
  },
  {
   "cell_type": "code",
   "execution_count": null,
   "metadata": {},
   "outputs": [],
   "source": [
    "import sys\n",
    "sys.setrecursionlimit(10 ** 5)\n",
    "\n",
    "A, B = map(int, input().split())\n",
    "\n",
    "def func(N):\n",
    "    if N == 0:\n",
    "        return 1\n",
    "    return N + func(N - 1)\n",
    "\n",
    "print(func(B) - func(A - 1))"
   ]
  },
  {
   "cell_type": "code",
   "execution_count": null,
   "metadata": {},
   "outputs": [],
   "source": [
    "N = int(input())\n",
    "def func(N):\n",
    "    if N == 0:\n",
    "        return 0\n",
    "    if N == 1:\n",
    "        return 1\n",
    "    return func(N - 1) + func(N - 2)\n",
    "\n",
    "print(func(N))"
   ]
  },
  {
   "cell_type": "code",
   "execution_count": null,
   "metadata": {},
   "outputs": [],
   "source": [
    "import sys\n",
    "sys.setrecursionlimit(10 ** 5)\n",
    "\n",
    "def func(N):\n",
    "    if memo[N] != -1:\n",
    "        return memo[N]\n",
    "    if N == 1:\n",
    "        memo[N] = 1\n",
    "        return memo[N]\n",
    "    if N == 0:\n",
    "        memo[N] = 0\n",
    "        return memo[N]\n",
    "    memo[N] = func(N - 1) + func(N - 2)\n",
    "    return memo[N]\n",
    "    \n",
    "\n",
    "N = int(input())\n",
    "memo = [-1] * (N + 1)\n",
    "func(N)\n",
    "print(memo[N])"
   ]
  },
  {
   "cell_type": "code",
   "execution_count": null,
   "metadata": {},
   "outputs": [],
   "source": [
    "N, X = map(int, input().split())\n",
    "A = list(map(int, input().split()))\n",
    "\n",
    "dp = [[False] * (X + 1) for _ in range(N + 1)]\n",
    "dp[0][0] = True\n",
    "\n",
    "for i in range(N):\n",
    "    for j in range(X + 1):\n",
    "        if not dp[i][j]:\n",
    "            continue\n",
    "        dp[i + 1][j] = True\n",
    "        if j + A[i] <= X:\n",
    "            dp[i + 1][j + A[i]] = True\n",
    "\n",
    "\n",
    "if dp[-1][-1]:\n",
    "    print('Yes')\n",
    "else:\n",
    "    print('No')"
   ]
  },
  {
   "cell_type": "code",
   "execution_count": null,
   "metadata": {},
   "outputs": [],
   "source": []
  },
  {
   "cell_type": "code",
   "execution_count": null,
   "metadata": {},
   "outputs": [],
   "source": []
  }
 ],
 "metadata": {
  "kernelspec": {
   "display_name": "base",
   "language": "python",
   "name": "python3"
  },
  "language_info": {
   "name": "python",
   "version": "3.9.13"
  },
  "orig_nbformat": 4,
  "vscode": {
   "interpreter": {
    "hash": "40d3a090f54c6569ab1632332b64b2c03c39dcf918b08424e98f38b5ae0af88f"
   }
  }
 },
 "nbformat": 4,
 "nbformat_minor": 2
}
