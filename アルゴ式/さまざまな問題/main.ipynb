{
 "cells": [
  {
   "cell_type": "code",
   "execution_count": null,
   "metadata": {},
   "outputs": [],
   "source": [
    "sa, ta = map(int, input().split())\n",
    "sb, tb = map(int, input().split())\n",
    "ans = [0] * 100\n",
    "ans[sa - 1] += 1\n",
    "ans[sb - 1] += 1\n",
    "ans[ta - 1] -= 1\n",
    "ans[tb - 1] -= 1\n",
    "sum_ = [0] * 100\n",
    "sum_[0] = ans[0]\n",
    "for i in range(99):\n",
    "    sum_[i + 1] = sum_[i] + ans[i + 1]\n",
    "count = 0\n",
    "for i in range(100):\n",
    "    if sum_[i] == 2:\n",
    "        count += 1\n",
    "        \n",
    "print(count)"
   ]
  },
  {
   "cell_type": "code",
   "execution_count": null,
   "metadata": {},
   "outputs": [],
   "source": [
    "N = int(input())\n",
    "\n",
    "for i in range(1, N + 1):\n",
    "    if (i % 4 == 0) and (i % 6 == 0):\n",
    "        print('FizzBuzz')\n",
    "    elif i % 4 == 0:\n",
    "        print('Fizz')\n",
    "    elif i % 6 == 0:\n",
    "        print('Buzz')\n",
    "    else:\n",
    "        print(i)"
   ]
  },
  {
   "cell_type": "code",
   "execution_count": null,
   "metadata": {},
   "outputs": [],
   "source": [
    "H, W, p, q = map(int, input().split())\n",
    "if (p + q) % 2 == 0:\n",
    "    print('Black')\n",
    "else:\n",
    "    print('White')"
   ]
  },
  {
   "cell_type": "code",
   "execution_count": null,
   "metadata": {},
   "outputs": [],
   "source": [
    "N = int(input())\n",
    "if N % 400 == 0:\n",
    "    exit(print('Yes'))\n",
    "elif N % 100 == 0:\n",
    "    exit(print('No'))   \n",
    "elif N % 4 == 0:\n",
    "    exit(print('Yes'))\n",
    "\n",
    "print('No')\n"
   ]
  },
  {
   "cell_type": "code",
   "execution_count": null,
   "metadata": {},
   "outputs": [],
   "source": [
    "ans = 0\n",
    "\n",
    "for _ in range(30):\n",
    "    h1, m1, h2, m2 = map(int, input().split())\n",
    "    tm = (h2 * 60 + m2) - (h1 * 60 + m1)\n",
    "    if tm > 8 * 60:\n",
    "        tm -= 60\n",
    "        \n",
    "    elif tm > 6 * 60:\n",
    "        tm -= 45\n",
    "        \n",
    "    ans += tm\n",
    "\n",
    "h = ans // 60\n",
    "ans -= 60 * h\n",
    "print(h, ans)"
   ]
  },
  {
   "cell_type": "code",
   "execution_count": null,
   "metadata": {},
   "outputs": [],
   "source": [
    "from collections import defaultdict\n",
    "N, M = map(int, input().split())\n",
    "dic = defaultdict(int)\n",
    "\n",
    "for _ in range(N):\n",
    "    F, C = input().split()\n",
    "    dic[F] = int(C)\n",
    "    \n",
    "X = input().split()\n",
    "ans = 0\n",
    "for menu in X:\n",
    "    ans += dic[menu]\n",
    "    \n",
    "print(ans)"
   ]
  },
  {
   "cell_type": "code",
   "execution_count": null,
   "metadata": {},
   "outputs": [],
   "source": [
    "import math\n",
    "\n",
    "S = input()\n",
    "n, d = 0, 0\n",
    "for i in range(len(S)):\n",
    "    if S[i] == '/':\n",
    "        n = int(S[:i])\n",
    "        d = int(S[i+1:])\n",
    "\n",
    "num = math.gcd(n, d)\n",
    "n //= num\n",
    "d //= num\n",
    "print(f'{n}/{d}')"
   ]
  },
  {
   "cell_type": "code",
   "execution_count": null,
   "metadata": {},
   "outputs": [],
   "source": [
    "N, M = map(int, input().split())\n",
    "ans = N + (N - 1) // (M - 1)\n",
    "print(ans)"
   ]
  },
  {
   "cell_type": "code",
   "execution_count": null,
   "metadata": {},
   "outputs": [],
   "source": []
  },
  {
   "cell_type": "code",
   "execution_count": null,
   "metadata": {},
   "outputs": [],
   "source": []
  }
 ],
 "metadata": {
  "kernelspec": {
   "display_name": "base",
   "language": "python",
   "name": "python3"
  },
  "language_info": {
   "name": "python",
   "version": "3.9.13 (main, Aug 25 2022, 23:26:10) \n[GCC 11.2.0]"
  },
  "orig_nbformat": 4,
  "vscode": {
   "interpreter": {
    "hash": "40d3a090f54c6569ab1632332b64b2c03c39dcf918b08424e98f38b5ae0af88f"
   }
  }
 },
 "nbformat": 4,
 "nbformat_minor": 2
}
