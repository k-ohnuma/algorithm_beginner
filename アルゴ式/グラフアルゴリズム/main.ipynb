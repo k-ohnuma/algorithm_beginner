{
 "cells": [
  {
   "cell_type": "markdown",
   "metadata": {},
   "source": [
    "### グラフとは"
   ]
  },
  {
   "cell_type": "code",
   "execution_count": null,
   "metadata": {},
   "outputs": [],
   "source": [
    "from collections import defaultdict\n",
    "N, A, B = map(int, input().split())\n",
    "S = [list(input()) for _ in range(N)]\n",
    "G = defaultdict(set)\n",
    "for i in range(N):\n",
    "    for j in range(N):\n",
    "        if S[i][j] == 'o':\n",
    "            G[i].add(j)\n",
    "            G[j].add(i)\n",
    "            \n",
    "print('Yes' if B in G[A] and A in G[B] else 'No')"
   ]
  },
  {
   "cell_type": "code",
   "execution_count": null,
   "metadata": {},
   "outputs": [],
   "source": [
    "from collections import defaultdict\n",
    "N, M = map(int, input().split())\n",
    "G = defaultdict(set)\n",
    "for _ in range(M):\n",
    "    A, B = map(int, input().split())\n",
    "    G[A].add(B)\n",
    "\n",
    "    \n",
    "for i in range(N):\n",
    "    print(*sorted(G[i]))"
   ]
  },
  {
   "cell_type": "code",
   "execution_count": null,
   "metadata": {},
   "outputs": [],
   "source": [
    "from collections import defaultdict\n",
    "\n",
    "N, M = map(int, input().split())\n",
    "G = defaultdict(set)\n",
    "count = defaultdict(int)\n",
    "for _ in range(M):\n",
    "    A, B = map(int, input().split())\n",
    "    G[A].add(B)\n",
    "    G[B].add(A)\n",
    "    \n",
    "for i in range(N):\n",
    "    count[i] = len(G[i])  \n",
    "\n",
    "value = -1\n",
    "idx = -1\n",
    "for i in range(N):\n",
    "    if count[i] > value:\n",
    "        value = count[i]\n",
    "        idx = i\n",
    "        \n",
    "print(*sorted(G[idx]))"
   ]
  },
  {
   "cell_type": "code",
   "execution_count": null,
   "metadata": {},
   "outputs": [],
   "source": [
    "from collections import defaultdict\n",
    "\n",
    "N, M, X = map(int, input().split())\n",
    "G = defaultdict(set)\n",
    "\n",
    "for _ in range(M):\n",
    "    A, B = map(int, input().split())\n",
    "    G[A].add(B)\n",
    "    G[B].add(A)\n",
    "\n",
    "count = set()\n",
    "\n",
    "for v in G[X]:\n",
    "    for w in G[v]:\n",
    "        if w != X and not w in G[X]:\n",
    "            count.add(w)\n",
    "            \n",
    "print(len(count))"
   ]
  },
  {
   "cell_type": "markdown",
   "metadata": {},
   "source": [
    "### 根付き木の探索"
   ]
  },
  {
   "cell_type": "code",
   "execution_count": null,
   "metadata": {},
   "outputs": [],
   "source": [
    "N, X = map(int, input().split())\n",
    "A = list(map(int, input().split()))\n",
    "now = X\n",
    "count = 0\n",
    "while now != 0:\n",
    "    now = A[now - 1]\n",
    "    count += 1\n",
    "    \n",
    "print(count)"
   ]
  },
  {
   "cell_type": "code",
   "execution_count": null,
   "metadata": {},
   "outputs": [],
   "source": [
    "import sys\n",
    "sys.setrecursionlimit(10 ** 5)\n",
    "\n",
    "N = int(input())\n",
    "P = list(map(int, input().split()))\n",
    "\n",
    "def rec(v, chs):\n",
    "    print(v, end=' ')\n",
    "    for v2 in chs[v]:\n",
    "        rec(v2, chs)\n",
    "\n",
    "chs = [[] for _ in range(N)]\n",
    "\n",
    "for v in range(1, N):\n",
    "    p = P[v - 1]\n",
    "    chs[p].append(v)\n",
    "    \n",
    "rec(0, chs)\n",
    "\n",
    "print()"
   ]
  },
  {
   "cell_type": "code",
   "execution_count": null,
   "metadata": {},
   "outputs": [],
   "source": [
    "import sys\n",
    "sys.setrecursionlimit(10 ** 5)\n",
    "\n",
    "N = int(input())\n",
    "P = list(map(int, input().split()))\n",
    "\n",
    "def rec(v, chs, dep):\n",
    "    for v2 in chs[v]:\n",
    "        dep[v2] = dep[v] + 1\n",
    "        rec(v2, chs, dep)\n",
    "        \n",
    "chs = [[] for _ in range(N)]\n",
    "\n",
    "for v in range(1, N):\n",
    "    p = P[v - 1]\n",
    "    chs[p].append(v)\n",
    "    \n",
    "dep = [-1] * N\n",
    "dep[0] = 0\n",
    "\n",
    "rec(0, chs, dep)\n",
    "\n",
    "for i in range(N):\n",
    "    print(dep[i])"
   ]
  },
  {
   "cell_type": "code",
   "execution_count": null,
   "metadata": {},
   "outputs": [],
   "source": [
    "import sys\n",
    "sys.setrecursionlimit(10 ** 6)\n",
    "from collections import deque, defaultdict\n",
    "\n",
    "def rec(v, chs, dep):\n",
    "    for v2 in chs[v]:\n",
    "        dep[v2] = dep[v] + 1\n",
    "        rec(v2, chs, dep)\n",
    "\n",
    "N = int(input())\n",
    "P = list(map(int, input().split()))\n",
    "chs = [[] for _ in range(N)]\n",
    "for v in range(1, N):\n",
    "    p = P[v - 1]\n",
    "    chs[p].append(v)\n",
    "    \n",
    "dep = [0] * N\n",
    "\n",
    "rec(0, chs, dep)\n",
    "print(max(dep))\n"
   ]
  },
  {
   "cell_type": "code",
   "execution_count": null,
   "metadata": {},
   "outputs": [],
   "source": []
  },
  {
   "cell_type": "markdown",
   "metadata": {},
   "source": [
    "### 幅優先探索"
   ]
  },
  {
   "cell_type": "code",
   "execution_count": null,
   "metadata": {},
   "outputs": [],
   "source": []
  },
  {
   "cell_type": "code",
   "execution_count": null,
   "metadata": {},
   "outputs": [],
   "source": []
  },
  {
   "cell_type": "code",
   "execution_count": null,
   "metadata": {},
   "outputs": [],
   "source": []
  },
  {
   "cell_type": "code",
   "execution_count": null,
   "metadata": {},
   "outputs": [],
   "source": []
  },
  {
   "cell_type": "markdown",
   "metadata": {},
   "source": [
    "### 深さ優先探索"
   ]
  },
  {
   "cell_type": "code",
   "execution_count": null,
   "metadata": {},
   "outputs": [],
   "source": []
  },
  {
   "cell_type": "code",
   "execution_count": null,
   "metadata": {},
   "outputs": [],
   "source": []
  },
  {
   "cell_type": "code",
   "execution_count": null,
   "metadata": {},
   "outputs": [],
   "source": []
  },
  {
   "cell_type": "code",
   "execution_count": null,
   "metadata": {},
   "outputs": [],
   "source": []
  },
  {
   "cell_type": "code",
   "execution_count": null,
   "metadata": {},
   "outputs": [],
   "source": []
  },
  {
   "cell_type": "code",
   "execution_count": null,
   "metadata": {},
   "outputs": [],
   "source": []
  },
  {
   "cell_type": "code",
   "execution_count": null,
   "metadata": {},
   "outputs": [],
   "source": []
  },
  {
   "cell_type": "markdown",
   "metadata": {},
   "source": [
    "### グラフ探索の典型問題"
   ]
  },
  {
   "cell_type": "code",
   "execution_count": null,
   "metadata": {},
   "outputs": [],
   "source": []
  },
  {
   "cell_type": "code",
   "execution_count": null,
   "metadata": {},
   "outputs": [],
   "source": []
  },
  {
   "cell_type": "code",
   "execution_count": null,
   "metadata": {},
   "outputs": [],
   "source": []
  }
 ],
 "metadata": {
  "kernelspec": {
   "display_name": "base",
   "language": "python",
   "name": "python3"
  },
  "language_info": {
   "name": "python",
   "version": "3.9.13 (main, Aug 25 2022, 23:26:10) \n[GCC 11.2.0]"
  },
  "orig_nbformat": 4,
  "vscode": {
   "interpreter": {
    "hash": "40d3a090f54c6569ab1632332b64b2c03c39dcf918b08424e98f38b5ae0af88f"
   }
  }
 },
 "nbformat": 4,
 "nbformat_minor": 2
}
