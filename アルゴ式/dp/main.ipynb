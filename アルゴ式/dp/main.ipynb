{
 "cells": [
  {
   "cell_type": "markdown",
   "metadata": {},
   "source": [
    "### 部分和問題とナップサック問題"
   ]
  },
  {
   "cell_type": "code",
   "execution_count": null,
   "metadata": {},
   "outputs": [],
   "source": [
    "N, M = map(int, input().split())\n",
    "A = list(map(int, input().split()))\n",
    "\n",
    "dp = [[False] * (M) for _ in range(N)]\n",
    "dp[0][0] = True\n",
    "\n",
    "for i in range(N - 1):\n",
    "    for j in range(M):\n",
    "        if not dp[i][j]:\n",
    "            continue\n",
    "        \n",
    "        dp[i + 1][j] = True\n",
    "        if j + A[i] <= M - 1:\n",
    "            dp[i + 1][j + A[i]] = True\n",
    "print(dp[-1].count(True))\n",
    "        "
   ]
  },
  {
   "cell_type": "code",
   "execution_count": null,
   "metadata": {},
   "outputs": [],
   "source": [
    "N, M = map(int, input().split())\n",
    "W = list(map(int, input().split()))\n",
    "\n",
    "dp = [[False] * (M + 1) for _ in range(N + 1)]\n",
    "dp[0][0] = True\n",
    "\n",
    "for i in range(N):\n",
    "    for j in range(M + 1):\n",
    "        if not dp[i][j]:\n",
    "            continue\n",
    "        dp[i + 1][j] = True\n",
    "        if j + W[i] <= M:\n",
    "            dp[i + 1][j + W[i]] = True\n",
    "\n",
    "print('Yes' if dp[-1][-1] else 'No')"
   ]
  },
  {
   "cell_type": "code",
   "execution_count": null,
   "metadata": {},
   "outputs": [],
   "source": [
    "N, M = map(int, input().split())\n",
    "A = list(map(int, input().split()))\n",
    "B = list(map(int, input().split()))\n",
    "\n",
    "dp = [[-1] * (M) for _ in range(N)]\n",
    "dp[0][0] = 0\n",
    "\n",
    "for i in range(N - 1):\n",
    "    for j in range(M):\n",
    "        if dp[i][j] == -1:\n",
    "            continue\n",
    "        dp[i + 1][j] = max(dp[i][j], dp[i + 1][j])\n",
    "        if j + A[i] <= M - 1:\n",
    "            dp[i + 1][j + A[i]] = max(dp[i][j + A[i]], dp[i][j] + B[i])\n",
    "\n",
    "print(dp[-1][-1])\n",
    "            "
   ]
  },
  {
   "cell_type": "code",
   "execution_count": null,
   "metadata": {},
   "outputs": [],
   "source": [
    "N, M = map(int, input().split())\n",
    "W = list(map(int, input().split()))\n",
    "V = list(map(int, input().split()))\n",
    "\n",
    "dp = [[-1] * (M + 1) for _ in range(N + 1)]\n",
    "dp[0][0] = 0\n",
    "\n",
    "for i in range(N):\n",
    "    for j in range(M + 1):\n",
    "        if dp[i][j] == -1:\n",
    "            continue\n",
    "        dp[i + 1][j] = max(dp[i][j], dp[i + 1][j])\n",
    "        if j + W[i] <= M:\n",
    "            dp[i + 1][j + W[i]] = max(dp[i + 1][j + W[i]], dp[i][j] + V[i])\n",
    "\n",
    "print(max(dp[-1]))"
   ]
  },
  {
   "cell_type": "code",
   "execution_count": null,
   "metadata": {},
   "outputs": [],
   "source": [
    "N, M = map(int, input().split())\n",
    "W = list(map(int, input().split()))\n",
    "inf = 1 << 30\n",
    "dp = [[inf] * (M + 1) for _ in range(N + 1)]\n",
    "dp[0][0] = 0\n",
    "\n",
    "for i in range(N):\n",
    "    for j in range(M + 1):\n",
    "        if dp[i][j] == -1:\n",
    "            continue\n",
    "        dp[i + 1][j] = min(dp[i + 1][j], dp[i][j])\n",
    "        if j + W[i] <= M:\n",
    "            dp[i + 1][j + W[i]] = min(dp[i][j + W[i]], dp[i][j] + 1)\n",
    "\n",
    "if dp[-1][-1] == inf:\n",
    "    print('-1')\n",
    "else:\n",
    "    print(dp[-1][-1])"
   ]
  },
  {
   "cell_type": "code",
   "execution_count": null,
   "metadata": {},
   "outputs": [],
   "source": [
    "N, A, B = map(int, input().split())\n",
    "X = list(map(int, input().split()))\n",
    "\n",
    "dp = [[False] * (A) for _ in range(N + 1)]\n",
    "dp[0][0] = True\n",
    "\n",
    "for i in range(N):\n",
    "    for j in range(A):\n",
    "        if not dp[i][j]: \n",
    "            continue\n",
    "        dp[i + 1][j] = True\n",
    "        if (j + X[i])% A <= A - 1:\n",
    "            dp[i + 1][(j + X[i])% A] = True\n",
    "            \n",
    "if dp[-1][B]:\n",
    "    print('Yes') \n",
    "else:\n",
    "    print('No')\n"
   ]
  },
  {
   "cell_type": "code",
   "execution_count": null,
   "metadata": {},
   "outputs": [],
   "source": [
    "N = int(input())\n",
    "W = list(map(int, input().split()))\n",
    "M = sum(W)\n",
    "dp = [[False] * (M + 1) for _ in range(N + 1)]\n",
    "dp[0][0] = True\n",
    "\n",
    "for i in range(N):\n",
    "    for j in range(M + 1):\n",
    "        if not dp[i][j]:\n",
    "            continue\n",
    "        dp[i + 1][j + W[i]] = True\n",
    "        dp[i + 1][abs(j - W[i])] = True\n",
    "\n",
    "ans = 0\n",
    "while not dp[N][ans]:\n",
    "    ans += 1\n",
    "print(ans)"
   ]
  },
  {
   "cell_type": "code",
   "execution_count": null,
   "metadata": {},
   "outputs": [],
   "source": [
    "N, A = map(int, input().split())\n",
    "P = list(map(int, input().split()))\n",
    "Q = list(map(int, input().split()))\n",
    "R = list(map(int, input().split()))\n",
    "\n",
    "S = [P, Q, R]\n",
    "# print(S)\n",
    "inf = 10 << 30\n",
    "dp = [[inf] * 3 for _ in range(N)]\n",
    "dp[0] = [P[0], Q[0], R[0]]\n",
    "\n",
    "for i in range(1, N):\n",
    "    for s in range(3):\n",
    "        cost = inf\n",
    "        for ps in range(3):\n",
    "            if s == ps:\n",
    "                dp[i][s] = min(dp[i][s], dp[i - 1][ps] + S[s][i] - A)\n",
    "            else:\n",
    "                dp[i][s] = min(dp[i][s], dp[i - 1][ps] + S[s][i])\n",
    "\n",
    "print(min(dp[-1]))\n",
    "# print(dp[-1])"
   ]
  },
  {
   "cell_type": "code",
   "execution_count": null,
   "metadata": {},
   "outputs": [],
   "source": []
  },
  {
   "cell_type": "code",
   "execution_count": null,
   "metadata": {},
   "outputs": [],
   "source": []
  },
  {
   "cell_type": "code",
   "execution_count": null,
   "metadata": {},
   "outputs": [],
   "source": []
  },
  {
   "cell_type": "code",
   "execution_count": null,
   "metadata": {},
   "outputs": [],
   "source": []
  },
  {
   "cell_type": "code",
   "execution_count": null,
   "metadata": {},
   "outputs": [],
   "source": []
  },
  {
   "cell_type": "code",
   "execution_count": null,
   "metadata": {},
   "outputs": [],
   "source": []
  },
  {
   "cell_type": "code",
   "execution_count": null,
   "metadata": {},
   "outputs": [],
   "source": []
  },
  {
   "cell_type": "code",
   "execution_count": null,
   "metadata": {},
   "outputs": [],
   "source": []
  },
  {
   "cell_type": "markdown",
   "metadata": {},
   "source": [
    "### 典型ナップザック"
   ]
  },
  {
   "cell_type": "code",
   "execution_count": null,
   "metadata": {},
   "outputs": [],
   "source": [
    "N, M = map(int, input().split())\n",
    "A = list(map(int, input().split()))\n",
    "\n",
    "dp = [[False] * (M + 1) for _ in range(N + 1)]\n",
    "dp[0][0] = True\n",
    "\n",
    "for i in range(N):\n",
    "    for j in range(M + 1):\n",
    "        if not dp[i][j]: continue\n",
    "        dp[i + 1][j] = True\n",
    "        if j + A[i] <= M:\n",
    "            dp[i + 1][j + A[i]] = True\n",
    "\n",
    "if dp[-1][M]:\n",
    "    print('Yes')\n",
    "else:\n",
    "    print('No')\n"
   ]
  },
  {
   "cell_type": "code",
   "execution_count": null,
   "metadata": {},
   "outputs": [],
   "source": [
    "N, W = map(int, input().split())\n",
    "w = []\n",
    "v = []\n",
    "for _ in range(N):\n",
    "    a, b = map(int, input().split())\n",
    "    w.append(a)\n",
    "    v.append(b)\n",
    "dp = [[-1] * (W + 1) for _ in range(N + 1)]\n",
    "dp[0][0] = 0\n",
    "\n",
    "for i in range(N):\n",
    "    for j in range(W + 1):\n",
    "        if dp[i][j] == -1: continue\n",
    "        dp[i + 1][j] = max(dp[i][j], dp[i + 1][j])\n",
    "        if j + w[i] <= W:\n",
    "            dp[i + 1][j + w[i]] = max(dp[i + 1][j + w[i]], dp[i][j] + v[i])\n",
    "\n",
    "print(max(dp[-1]))\n",
    "\n",
    "    "
   ]
  },
  {
   "cell_type": "code",
   "execution_count": null,
   "metadata": {},
   "outputs": [],
   "source": [
    "N, M = map(int, input().split())\n",
    "A = list(map(int, input().split()))\n",
    "\n",
    "dp = [[False] * (M + 1) for _ in range(N + 1)]\n",
    "dp[0][0] = True\n",
    "for i in range(N):\n",
    "    for j in range(M + 1):\n",
    "        if not dp[i][j]:continue\n",
    "        dp[i + 1][j] = True\n",
    "        if j + A[i] <= M:\n",
    "            dp[i + 1][j + A[i]] = True\n",
    "\n",
    "if dp[-1][-1]:\n",
    "    print('Yes')\n",
    "else:\n",
    "    print('No')"
   ]
  },
  {
   "cell_type": "code",
   "execution_count": null,
   "metadata": {},
   "outputs": [],
   "source": [
    "N, M = map(int, input().split())\n",
    "A = list(map(int, input().split()))\n",
    "\n",
    "dp = [[0] * (M + 1) for _ in range(N + 1)]\n",
    "dp[0][0] = 1\n",
    "\n",
    "for i in range(N):\n",
    "    for j in range(M + 1):\n",
    "        # if dp[i][j] == -1:\n",
    "        #     continue\n",
    "        dp[i + 1][j] += dp[i][j]\n",
    "        if j + A[i] <= M:\n",
    "            dp[i + 1][j + A[i]] = dp[i][j] + dp[i + 1][j + A[i]]\n",
    "            dp[i + 1][j + A[i]] %= 1000\n",
    "            \n",
    "print(dp[-1][-1] % 1000)"
   ]
  },
  {
   "cell_type": "code",
   "execution_count": null,
   "metadata": {},
   "outputs": [],
   "source": [
    "N, M = map(int, input().split())\n",
    "inf = 1 << 30\n",
    "A = list(map(int, input().split()))\n",
    "dp = [[inf] * (M + 1) for _ in range(N + 1)]\n",
    "dp[0][0] = 0\n",
    "\n",
    "for i in range(N):\n",
    "    for j in range(M + 1):\n",
    "        if dp[i][j] == inf:\n",
    "            continue\n",
    "        dp[i + 1][j] = min(dp[i][j], dp[i + 1][j])\n",
    "        if j + A[i] <= M:\n",
    "            dp[i + 1][j + A[i]] = min(dp[i][j + A[i]], dp[i][j] + 1) \n",
    "\n",
    "if dp[-1][-1] == inf:\n",
    "    print(-1)\n",
    "else:\n",
    "    print(dp[-1][-1])"
   ]
  },
  {
   "cell_type": "code",
   "execution_count": null,
   "metadata": {},
   "outputs": [],
   "source": [
    "N, M, K = map(int, input().split())\n",
    "A = list(map(int, input().split()))\n",
    "inf = 1 << 50\n",
    "dp = [[inf] * (M + 1) for _ in range(N + 1)]\n",
    "dp[0][0] = 0\n",
    "\n",
    "for i in range(N):\n",
    "    for j in range(M + 1):\n",
    "        if dp[i][j] == inf:\n",
    "            continue\n",
    "        dp[i + 1][j] = min(dp[i][j], dp[i + 1][j])\n",
    "        if j + A[i] <= M:\n",
    "            dp[i + 1][j + A[i]] = min(dp[i + 1][j + A[i]], dp[i][j] + 1)\n",
    "\n",
    "if dp[N][M] <= K:\n",
    "    print('Yes')\n",
    "else:\n",
    "    print('No')\n",
    "            "
   ]
  },
  {
   "cell_type": "code",
   "execution_count": null,
   "metadata": {},
   "outputs": [],
   "source": []
  },
  {
   "cell_type": "code",
   "execution_count": null,
   "metadata": {},
   "outputs": [],
   "source": [
    "S = input()\n",
    "T = input()\n",
    "\n",
    "dp = [[0] * (len(T) + 1) for _ in range(len(S) + 1)]\n",
    "\n",
    "for i in range(len(S)):\n",
    "    for j in range(len(T)):\n",
    "        if S[i] == T[j]:\n",
    "            dp[i + 1][j + 1] = max(dp[i + 1][j + 1], dp[i][j] + 1)\n",
    "        dp[i + 1][j + 1] = max(dp[i + 1][j], dp[i + 1][j + 1])\n",
    "        dp[i + 1][j + 1] = max(dp[i + 1][j + 1], dp[i][j + 1])\n",
    "\n",
    "print(dp[-1][-1])"
   ]
  },
  {
   "cell_type": "code",
   "execution_count": null,
   "metadata": {},
   "outputs": [],
   "source": []
  }
 ],
 "metadata": {
  "kernelspec": {
   "display_name": "base",
   "language": "python",
   "name": "python3"
  },
  "language_info": {
   "codemirror_mode": {
    "name": "ipython",
    "version": 3
   },
   "file_extension": ".py",
   "mimetype": "text/x-python",
   "name": "python",
   "nbconvert_exporter": "python",
   "pygments_lexer": "ipython3",
   "version": "3.9.13"
  },
  "orig_nbformat": 4,
  "vscode": {
   "interpreter": {
    "hash": "40d3a090f54c6569ab1632332b64b2c03c39dcf918b08424e98f38b5ae0af88f"
   }
  }
 },
 "nbformat": 4,
 "nbformat_minor": 2
}
