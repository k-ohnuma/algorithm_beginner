{
 "cells": [
  {
   "cell_type": "markdown",
   "metadata": {},
   "source": [
    "### 配列とクエリ"
   ]
  },
  {
   "cell_type": "code",
   "execution_count": null,
   "metadata": {},
   "outputs": [],
   "source": [
    "ls = [3,1,4,1,5,9,2,6,5,3]\n",
    "k = int(input())\n",
    "print(ls[k])"
   ]
  },
  {
   "cell_type": "code",
   "execution_count": null,
   "metadata": {},
   "outputs": [],
   "source": [
    "Q = int(input())\n",
    "A = [3,1,4,1,5,9,2,6,5,3]\n",
    "query = [list(map(int, input().split())) for _ in range(Q)]\n",
    "for i in range(Q):\n",
    "    if query[i][0] == 0:\n",
    "        print(A[query[i][1]])\n",
    "    if query[i][0] == 1:\n",
    "        A[query[i][1]] = query[i][2]"
   ]
  },
  {
   "cell_type": "markdown",
   "metadata": {},
   "source": [
    "### 可変長配列"
   ]
  },
  {
   "cell_type": "code",
   "execution_count": null,
   "metadata": {},
   "outputs": [],
   "source": [
    "N, k = map(int, input().split())\n",
    "A = list(map(int, input().split()))\n",
    "\n",
    "print(A[k])\n",
    "print(A[-k-1])"
   ]
  },
  {
   "cell_type": "code",
   "execution_count": null,
   "metadata": {},
   "outputs": [],
   "source": [
    "N = int(input())\n",
    "A = list(map(int, input().split()))\n",
    "Q = int(input())\n",
    "query = [list(map(int, input().split())) for _ in range(Q)]\n",
    "\n",
    "for num in query:\n",
    "    t, k = num\n",
    "    if t == 0:\n",
    "        if k >= 0 and k < len(A):\n",
    "            print(A[k])\n",
    "        else:\n",
    "            print('Error')\n",
    "    if t == 1:\n",
    "        A.append(k)"
   ]
  },
  {
   "cell_type": "code",
   "execution_count": null,
   "metadata": {},
   "outputs": [],
   "source": [
    "N = int(input())\n",
    "A = list(map(int, input().split()))\n",
    "Q = int(input())\n",
    "query = [list(map(int, input().split())) for _ in range(Q)]\n",
    "\n",
    "for num in query:\n",
    "    if num[0] == 0:\n",
    "        A.append(num[1])\n",
    "    else:\n",
    "        if len(A) == 0:\n",
    "            print('Error')\n",
    "        else:\n",
    "            print(A.pop())"
   ]
  },
  {
   "cell_type": "code",
   "execution_count": null,
   "metadata": {},
   "outputs": [],
   "source": [
    "N = int(input())\n",
    "ls = list(range(1, N + 1))\n",
    "num = -1\n",
    "while len(ls) > 1:\n",
    "    num += 1\n",
    "    if num >= len(ls):\n",
    "        num = num % len(ls)\n",
    "    ls.pop(num)\n",
    "    \n",
    "    \n",
    "print(ls[0])\n",
    "    "
   ]
  },
  {
   "cell_type": "code",
   "execution_count": null,
   "metadata": {},
   "outputs": [],
   "source": [
    "N = int(input())\n",
    "A = list(map(int, input().split()))\n",
    "Q = int(input())\n",
    "\n",
    "query = [list(map(int, input().split())) for _ in range(Q)]\n",
    "\n",
    "for i in range(Q):\n",
    "    if query[i][0] == 0:\n",
    "        A.reverse()\n",
    "    if query[i][0] == 1:\n",
    "        A.append(query[i][1])\n",
    "    if query[i][0] == 2:\n",
    "        if len(A) == 0:\n",
    "            print('Error')\n",
    "        else:\n",
    "            print(A.pop(-1))"
   ]
  },
  {
   "cell_type": "code",
   "execution_count": null,
   "metadata": {},
   "outputs": [],
   "source": [
    "N = int(input())\n",
    "A = list(map(int, input().split()))\n",
    "Q = int(input())\n",
    "A.reverse()\n",
    "query = [list(map(int, input().split())) for _ in range(Q)]\n",
    "\n",
    "for i in range(Q):\n",
    "    if query[i][0] == 0:\n",
    "        A.append(query[i][1])\n",
    "    if query[i][0] == 1:\n",
    "        if len(A) == 0:\n",
    "            print('Error')\n",
    "        else:\n",
    "            print(A.pop(-1))"
   ]
  },
  {
   "cell_type": "code",
   "execution_count": null,
   "metadata": {},
   "outputs": [],
   "source": [
    "N = int(input())\n",
    "A = list(map(int, input().split()))\n",
    "Q = int(input())\n",
    "A_front = []\n",
    "query = [list(map(int, input().split())) for _ in range(Q)]\n",
    "\n",
    "for num in query:\n",
    "    t, v = num\n",
    "    if t == 0:\n",
    "        A_front.append(v)\n",
    "    elif t == 1:\n",
    "        A.append(v)\n",
    "    elif t == 2:\n",
    "        if v < len(A_front):\n",
    "            print(A_front[-v - 1])\n",
    "        else:\n",
    "            v -= len(A_front)\n",
    "            if v < len(A):\n",
    "                print(A[v])\n",
    "            else:\n",
    "                print('Error')\n",
    "    "
   ]
  },
  {
   "cell_type": "markdown",
   "metadata": {},
   "source": [
    "### 二次元配列"
   ]
  },
  {
   "cell_type": "code",
   "execution_count": null,
   "metadata": {},
   "outputs": [],
   "source": [
    "H, W = map(int, input().split())\n",
    "S = [list(input()) for _ in range(H)]\n",
    "ans = 0\n",
    "for i in range(H):\n",
    "    for j in range(W):\n",
    "        if S[i][j] == 'o':\n",
    "            ans += 1\n",
    "            \n",
    "print(ans)"
   ]
  },
  {
   "cell_type": "code",
   "execution_count": null,
   "metadata": {},
   "outputs": [],
   "source": [
    "H, W = map(int, input().split())\n",
    "S = [list(input()) for _ in range(H)]\n",
    "T = [list(input()) for _ in range(H)]\n",
    "ans = 0\n",
    "for i in range(H):\n",
    "    for j in range(W):\n",
    "        if S[i][j] != T[i][j]:\n",
    "            ans += 1\n",
    "print(ans)"
   ]
  },
  {
   "cell_type": "code",
   "execution_count": null,
   "metadata": {},
   "outputs": [],
   "source": [
    "H, W, x, y = map(int, input().split())\n",
    "S = [list(input()) for _ in range(H)]\n",
    "x-= 1\n",
    "y -= 1\n",
    "for i in range(x, x + 3):\n",
    "    for j in range(y, y + 3):\n",
    "        print(S[i][j], end='')\n",
    "        \n",
    "    print()"
   ]
  },
  {
   "cell_type": "code",
   "execution_count": null,
   "metadata": {},
   "outputs": [],
   "source": [
    "H, W = map(int, input().split())\n",
    "S = [list(input()) for _ in range(H)]\n",
    "p, q = map(int, input().split())\n",
    "ans = 0\n",
    "for i in range(H):\n",
    "    if S[i][q] == '#':\n",
    "        ans += 1\n",
    "        \n",
    "for i in range(W):\n",
    "    if S[p][i] == '#':\n",
    "        ans += 1\n",
    "        \n",
    "if S[p][q] == '#':\n",
    "    ans -= 1\n",
    "    \n",
    "print(ans)"
   ]
  },
  {
   "cell_type": "code",
   "execution_count": null,
   "metadata": {},
   "outputs": [],
   "source": [
    "H, W = map(int, input().split())\n",
    "S = [list(input()) for _ in range(H)]\n",
    "Q = int(input())\n",
    "di = [0, 1, 0, -1]\n",
    "dj = [1, 0, -1, 0]\n",
    "for _ in range(Q):\n",
    "    x, y = map(int, input().split())\n",
    "    ans = 0\n",
    "    for i, j in zip(di, dj):\n",
    "        if x + i >= 0 and x + i < H and y + j >= 0 and y + j < W:\n",
    "            if S[x + i][y + j] == '#':\n",
    "                ans += 1\n",
    "            \n",
    "    print(ans)"
   ]
  },
  {
   "cell_type": "code",
   "execution_count": null,
   "metadata": {},
   "outputs": [],
   "source": [
    "H, W = map(int, input().split())\n",
    "S = [list(input()) for _ in range(H)]\n",
    "for i in range(H):\n",
    "    S[i] = list(map(lambda x: 1 if x == '#' else 0, S[i]))\n",
    "\n",
    "Q = int(input())\n",
    "dis = [0, 0, 1, 0, -1]\n",
    "djs = [0, 1, 0, -1, 0]\n",
    "for _ in range(Q):\n",
    "    t, p, q = map(int, input().split())\n",
    "    if t == 0:\n",
    "        for di, dj in zip(dis, djs):\n",
    "            x = p + di\n",
    "            y = q + dj\n",
    "            if 0 <= x < H and 0 <= y < W:\n",
    "                S[x][y] = 1 - S[x][y]\n",
    "                \n",
    "    if t == 1:\n",
    "        ans = 0\n",
    "        for di, dj in zip(dis, djs):\n",
    "            x = p + di\n",
    "            y = q + dj\n",
    "            if 0 <= x < H and 0 <= y < W:\n",
    "                ans += S[x][y]\n",
    "                \n",
    "        print(ans) "
   ]
  },
  {
   "cell_type": "code",
   "execution_count": null,
   "metadata": {},
   "outputs": [],
   "source": [
    "def next_state(now_ij, sum_ij):\n",
    "    ans = now_ij\n",
    "    \n",
    "    if now_ij == 0 and sum_ij == 3:\n",
    "        ans = 1\n",
    "    if now_ij == 1:\n",
    "        if sum_ij <= 1 or sum_ij >= 4:\n",
    "            ans = 0\n",
    "        else:\n",
    "            ans = 1\n",
    "            \n",
    "    return ans\n",
    "\n",
    "N, X = map(int, input().split())\n",
    "S = [input() for _ in range(N)]\n",
    "\n",
    "for i in range(N):\n",
    "    S[i] = list(map(lambda x: 1 if x == '#' else 0, S[i]))\n",
    "\n",
    "for _ in range(X):\n",
    "    nex = [[0] * N for _ in range(N)]\n",
    "\n",
    "    for i in range(N):\n",
    "        for j in range(N):\n",
    "            sum_ij = 0\n",
    "            for ni in [i - 1, i, i + 1]:\n",
    "                for nj in [j - 1, j, j + 1]:\n",
    "                    if ni == i and nj == j:\n",
    "                        continue\n",
    "                    if 0 <= ni < N and 0 <= nj < N:\n",
    "                        sum_ij += S[ni][nj]\n",
    "                        \n",
    "            nex[i][j] = next_state(S[i][j], sum_ij)\n",
    "            \n",
    "    S = nex\n",
    "    \n",
    "for i in range(N):\n",
    "    S[i] = list(map(lambda x: '#' if x == 1 else '.', S[i]))\n",
    "    \n",
    "for i in range(N):\n",
    "    print(''.join(S[i]))"
   ]
  },
  {
   "cell_type": "code",
   "execution_count": null,
   "metadata": {},
   "outputs": [],
   "source": [
    "from collections import defaultdict\n",
    "N, T = input().split()\n",
    "d = defaultdict(int)\n",
    "\n",
    "for i in range(int(N)):\n",
    "    S = list(input().split())[1:]\n",
    "    for j in range(len(S)):\n",
    "        d[S[j]] += 1\n",
    "        \n",
    "print(d[T])\n",
    "        "
   ]
  },
  {
   "cell_type": "code",
   "execution_count": null,
   "metadata": {},
   "outputs": [],
   "source": [
    "from collections import defaultdict\n",
    "\n",
    "N, Q = map(int, input().split())\n",
    "q = [list(map(int, input().split())) for _ in range(Q)]\n",
    "G = defaultdict(set)\n",
    "\n",
    "for tmp in q:\n",
    "    t = tmp[0]\n",
    "    if t == 0:\n",
    "        x, y = tmp[1], tmp[2]\n",
    "        G[y].add(x)\n",
    "        \n",
    "    if t == 1:\n",
    "        z = tmp[1]\n",
    "        ls = sorted(list(G[z]))\n",
    "        if len(ls):\n",
    "            print(*ls)\n",
    "        else:\n",
    "            print('No')"
   ]
  },
  {
   "cell_type": "code",
   "execution_count": null,
   "metadata": {},
   "outputs": [],
   "source": [
    "H, W = map(int, input().split())\n",
    "S = [list(input()) for _ in range(H)]\n",
    "for i in range(H):\n",
    "    S[i] = list(map(lambda x: 1 if x == '#' else 0, S[i]))\n",
    "Q = int(input())\n",
    "q = [list(map(int, input().split())) for _ in range(Q)]\n",
    "\n",
    "gyou = [0] * H\n",
    "retu = [0] * W\n",
    "\n",
    "for i in range(H):\n",
    "    for j in range(W):\n",
    "        gyou[i] += S[i][j]\n",
    "        \n",
    "for j in range(W):\n",
    "    for i in range(H):\n",
    "        retu[j] += S[i][j] \n",
    "\n",
    "for tmp in q:\n",
    "    p, q = tmp[0], tmp[1]\n",
    "    print(gyou[p] + retu[q] - S[p][q])\n",
    "    "
   ]
  },
  {
   "cell_type": "code",
   "execution_count": null,
   "metadata": {},
   "outputs": [],
   "source": [
    "dxs = [0, 1, 0, -1, 0]\n",
    "dys = [0, 0, 1, 0, -1]\n",
    "\n",
    "H, W = map(int, input().split())\n",
    "S = [list(input()) for _ in range(H)]\n",
    "for i in range(H):\n",
    "    S[i] = list(map(lambda x: 1 if x == '#' else 0, S[i]))\n",
    "    \n",
    "sum_black = 0\n",
    "for i in range(H):\n",
    "    for j in range(W):\n",
    "        sum_black += S[i][j]\n",
    "\n",
    "Q = int(input())\n",
    "q = [list(map(int, input().split())) for _ in range(Q)]\n",
    "\n",
    "for tmp in q:\n",
    "    t = tmp[0]\n",
    "    if t == 0:\n",
    "        p, q = tmp[1], tmp[2]\n",
    "        for dx, dy in zip(dxs, dys):\n",
    "            x, y = p + dx, q + dy\n",
    "            \n",
    "            if 0 <= x < H and 0 <= y < W:\n",
    "                sum_black -= S[x][y]\n",
    "                S[x][y] = 1 - S[x][y]\n",
    "                sum_black += S[x][y]\n",
    "                \n",
    "    if t == 1:\n",
    "        print(sum_black)"
   ]
  },
  {
   "cell_type": "code",
   "execution_count": null,
   "metadata": {},
   "outputs": [],
   "source": []
  },
  {
   "cell_type": "code",
   "execution_count": null,
   "metadata": {},
   "outputs": [],
   "source": []
  }
 ],
 "metadata": {
  "kernelspec": {
   "display_name": "base",
   "language": "python",
   "name": "python3"
  },
  "language_info": {
   "name": "python",
   "version": "3.9.13 (main, Aug 25 2022, 23:26:10) \n[GCC 11.2.0]"
  },
  "orig_nbformat": 4,
  "vscode": {
   "interpreter": {
    "hash": "40d3a090f54c6569ab1632332b64b2c03c39dcf918b08424e98f38b5ae0af88f"
   }
  }
 },
 "nbformat": 4,
 "nbformat_minor": 2
}
