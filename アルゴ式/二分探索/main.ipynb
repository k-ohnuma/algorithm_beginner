{
 "cells": [
  {
   "attachments": {},
   "cell_type": "markdown",
   "metadata": {},
   "source": []
  },
  {
   "cell_type": "code",
   "execution_count": null,
   "metadata": {},
   "outputs": [],
   "source": [
    "def f(x):\n",
    "    return x * (x * (x + 1) + 2) + 3\n",
    "\n",
    "N = int(input())\n",
    "\n",
    "left = 0\n",
    "right = 100\n",
    "\n",
    "while (right - left) >= 1e-4:\n",
    "    mid = (left + right) / 2\n",
    "    if f(mid) >= N:\n",
    "        right = mid\n",
    "    else:\n",
    "        left = mid\n",
    "\n",
    "print(left)"
   ]
  },
  {
   "cell_type": "code",
   "execution_count": null,
   "metadata": {},
   "outputs": [],
   "source": [
    "def f(x, N):\n",
    "    ans = N + 1\n",
    "    for _ in range(5):\n",
    "        ans = ans * x + 1\n",
    "    return ans\n",
    "\n",
    "\n",
    "N, M = map(int, input().split())\n",
    "left = 0\n",
    "right = 100\n",
    "\n",
    "while right - left >= 1e-4:\n",
    "    mid = (left + right) / 2\n",
    "    if f(mid, N) >= M:\n",
    "        right = mid\n",
    "    else:\n",
    "        left = mid\n",
    "        \n",
    "print(left)"
   ]
  },
  {
   "cell_type": "code",
   "execution_count": null,
   "metadata": {},
   "outputs": [],
   "source": [
    "import bisect\n",
    "\n",
    "N, M = map(int, input().split())\n",
    "A = list(map(int, input().split()))\n",
    "B = list(map(int, input().split()))\n",
    "\n",
    "for num in B:\n",
    "    ans = bisect.bisect_left(A, num)\n",
    "    print(ans)"
   ]
  },
  {
   "cell_type": "code",
   "execution_count": null,
   "metadata": {},
   "outputs": [],
   "source": [
    "N, M = map(int, input().split())\n",
    "A = list(map(int, input().split()))\n",
    "B = list(map(int, input().split()))\n",
    "\n",
    "A.sort()\n",
    "\n",
    "import bisect\n",
    "\n",
    "for i in range(M):\n",
    "    num = bisect.bisect_right(A, B[i])\n",
    "    print(num)"
   ]
  },
  {
   "cell_type": "code",
   "execution_count": null,
   "metadata": {},
   "outputs": [],
   "source": [
    "import bisect\n",
    "\n",
    "N, K = map(int, input().split())\n",
    "A = list(map(int, input().split()))\n",
    "A.sort()\n",
    "ans = 0\n",
    "for num in A:\n",
    "    tmp = bisect.bisect_left(A, K - num)\n",
    "    ans += len(A) - tmp\n",
    "print(ans)\n"
   ]
  },
  {
   "cell_type": "code",
   "execution_count": null,
   "metadata": {},
   "outputs": [],
   "source": [
    "import bisect\n",
    "\n",
    "N = int(input())\n",
    "W = list(map(int, input().split()))\n",
    "sorted_W = sorted(W)\n",
    "\n",
    "for num in W:\n",
    "    ans = bisect.bisect_left(sorted_W, num)\n",
    "    print(ans)\n",
    "    \n"
   ]
  },
  {
   "cell_type": "code",
   "execution_count": null,
   "metadata": {},
   "outputs": [],
   "source": [
    "def f(i):\n",
    "    return i * (i + 1) // 2\n",
    "\n",
    "N = int(input())\n",
    "X = list(map(int, input().split()))\n",
    "\n",
    "for x in X:\n",
    "    left = 0\n",
    "    right = 10 ** 18\n",
    "    \n",
    "    while left != right:\n",
    "        mid = (left + right) // 2\n",
    "        if f(mid) >= x:\n",
    "            right = mid\n",
    "        else:\n",
    "            left = mid + 1\n",
    "            \n",
    "    print(left)"
   ]
  },
  {
   "cell_type": "code",
   "execution_count": null,
   "metadata": {},
   "outputs": [],
   "source": [
    "def f(X, L):\n",
    "    ans = 0\n",
    "    for num in L:\n",
    "        ans += num // X\n",
    "    return ans\n",
    "\n",
    "N, K = map(int, input().split())\n",
    "L = list(map(int, input().split()))\n",
    "\n",
    "left = 0\n",
    "right = 2 * 10 ** 5\n",
    "\n",
    "while right - left >= 10 ** (-8):\n",
    "    mid = (left + right) / 2\n",
    "    if f(mid, L) >= K:\n",
    "        left = mid\n",
    "    else:\n",
    "        right = mid\n",
    "        \n",
    "print(left)"
   ]
  },
  {
   "cell_type": "code",
   "execution_count": null,
   "metadata": {},
   "outputs": [],
   "source": [
    "N, K = map(int, input().split())\n",
    "count = 0\n",
    "\n",
    "for i in range(N):\n",
    "    count += min(N, K // (i + 1))\n",
    "    \n",
    "print(count)"
   ]
  },
  {
   "cell_type": "code",
   "execution_count": null,
   "metadata": {},
   "outputs": [],
   "source": [
    "def f(N, K):\n",
    "    count = 0\n",
    "    for i in range(N):\n",
    "        count += min(N, K // (i + 1))\n",
    "        \n",
    "    return count\n",
    "\n",
    "N, X = map(int, input().split())\n",
    "\n",
    "left = 0\n",
    "right = N * N\n",
    "\n",
    "while (left != right):\n",
    "    mid = (left + right) // 2\n",
    "    if f(N, mid) >= X:\n",
    "        right = mid\n",
    "    else:\n",
    "        left = mid + 1\n",
    "        \n",
    "ans = left\n",
    "print(ans)"
   ]
  }
 ],
 "metadata": {
  "kernelspec": {
   "display_name": "base",
   "language": "python",
   "name": "python3"
  },
  "language_info": {
   "name": "python",
   "version": "3.9.13 (main, Aug 25 2022, 23:26:10) \n[GCC 11.2.0]"
  },
  "orig_nbformat": 4,
  "vscode": {
   "interpreter": {
    "hash": "40d3a090f54c6569ab1632332b64b2c03c39dcf918b08424e98f38b5ae0af88f"
   }
  }
 },
 "nbformat": 4,
 "nbformat_minor": 2
}
