{
 "cells": [
  {
   "cell_type": "markdown",
   "metadata": {},
   "source": [
    "### 貪欲法"
   ]
  },
  {
   "cell_type": "code",
   "execution_count": null,
   "metadata": {},
   "outputs": [],
   "source": [
    "N = int(input())\n",
    "count = 0\n",
    "count += (N // 5)\n",
    "N -= 5 * (N // 5)\n",
    "print(N + count)"
   ]
  },
  {
   "cell_type": "code",
   "execution_count": null,
   "metadata": {},
   "outputs": [],
   "source": [
    "N = int(input())\n",
    "count = 0\n",
    "while N != 0:\n",
    "    if N % 2 == 0:\n",
    "        N //= 2\n",
    "        count += 1\n",
    "    else:\n",
    "        N -= 1\n",
    "        count += 1\n",
    "        \n",
    "print(count )"
   ]
  },
  {
   "cell_type": "code",
   "execution_count": null,
   "metadata": {},
   "outputs": [],
   "source": [
    "X = int(input())\n",
    "A = list(map(int, input().split()))\n",
    "coins = [50, 10, 5, 1]\n",
    "\n",
    "ans = 0\n",
    "for coin, num in zip(coins, A):\n",
    "    tmp = X // coin\n",
    "    tmp = min(tmp, num)\n",
    "    ans += tmp\n",
    "    \n",
    "    X -= coin * tmp\n",
    "    \n",
    "print(ans)\n",
    "    \n",
    "    "
   ]
  },
  {
   "cell_type": "code",
   "execution_count": null,
   "metadata": {},
   "outputs": [],
   "source": [
    "N, M = map(int, input().split())\n",
    "A = list(map(int,input().split()))\n",
    "B = list(map(int, input().split()))\n",
    "\n",
    "already = [False] * N\n",
    "already_box = [False] * M\n",
    "for j in range(M):\n",
    "    for i in range(N):\n",
    "        if already[i] or already_box[j]:\n",
    "            continue\n",
    "        \n",
    "        if A[i] <= B[j]:\n",
    "            already[i] = True\n",
    "            already_box[j] = True\n",
    "            \n",
    "print(already_box.count(True))"
   ]
  },
  {
   "cell_type": "code",
   "execution_count": null,
   "metadata": {},
   "outputs": [],
   "source": [
    "N = int(input())\n",
    "now = N\n",
    "cnt = 0\n",
    "while now != 0:\n",
    "    if now % 3 == 0:\n",
    "        now //= 3\n",
    "        cnt += 1\n",
    "    else:\n",
    "        now -= 1\n",
    "        cnt += 1\n",
    "        \n",
    "print(cnt)\n",
    "        "
   ]
  },
  {
   "cell_type": "code",
   "execution_count": null,
   "metadata": {},
   "outputs": [],
   "source": []
  },
  {
   "cell_type": "code",
   "execution_count": null,
   "metadata": {},
   "outputs": [],
   "source": []
  }
 ],
 "metadata": {
  "kernelspec": {
   "display_name": "base",
   "language": "python",
   "name": "python3"
  },
  "language_info": {
   "name": "python",
   "version": "3.9.13 (main, Aug 25 2022, 23:26:10) \n[GCC 11.2.0]"
  },
  "orig_nbformat": 4,
  "vscode": {
   "interpreter": {
    "hash": "40d3a090f54c6569ab1632332b64b2c03c39dcf918b08424e98f38b5ae0af88f"
   }
  }
 },
 "nbformat": 4,
 "nbformat_minor": 2
}
